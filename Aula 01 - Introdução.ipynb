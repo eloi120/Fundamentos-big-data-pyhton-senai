{
 "cells": [
  {
   "cell_type": "markdown",
   "metadata": {},
   "source": [
    "## Criando uma mensagem no console\n",
    "\n",
    "Markdown é um texto que não é reconhecido pela linguagem"
   ]
  },
  {
   "cell_type": "code",
   "execution_count": 3,
   "metadata": {},
   "outputs": [
    {
     "name": "stdout",
     "output_type": "stream",
     "text": [
      "Hello, Word!\n"
     ]
    }
   ],
   "source": [
    "print('Hello, Word!')"
   ]
  },
  {
   "cell_type": "markdown",
   "metadata": {},
   "source": [
    "## Exercício 1 - Crie um programa para receber dois valores e em seguida, exiba o valor\n",
    "da soma."
   ]
  },
  {
   "cell_type": "code",
   "execution_count": 3,
   "metadata": {},
   "outputs": [
    {
     "name": "stdout",
     "output_type": "stream",
     "text": [
      "17\n"
     ]
    }
   ],
   "source": [
    "# criando as variáveis e atribuindo valores a elas\n",
    "num1 = 5\n",
    "num2 = 10\n",
    "num3 = 2\n",
    "\n",
    "# Somando os valores das três variáveis criadas\n",
    "soma = num1 + num2 + num3\n",
    "\n",
    "print(soma)"
   ]
  },
  {
   "cell_type": "markdown",
   "metadata": {},
   "source": [
    "# Exercício 10 - Faça um Programa que converta metros para centímetros."
   ]
  },
  {
   "cell_type": "code",
   "execution_count": 14,
   "metadata": {},
   "outputs": [
    {
     "name": "stdout",
     "output_type": "stream",
     "text": [
      "2000.0\n"
     ]
    }
   ],
   "source": [
    "metros = input('Digite um valor em metros')\n",
    "metros = float(metros)\n",
    "centimetros = metros * 100\n",
    "\n",
    "print(centimetros)"
   ]
  },
  {
   "cell_type": "markdown",
   "metadata": {},
   "source": [
    "# Exercício 11 - Faça um Programa que peça o raio de um círculo, calcule e mostre sua\n",
    "área."
   ]
  },
  {
   "cell_type": "code",
   "execution_count": 22,
   "metadata": {},
   "outputs": [
    {
     "name": "stdout",
     "output_type": "stream",
     "text": [
      "O circulo com raio de 10.0 mm, tem uma área de 314.0 mm²\n"
     ]
    }
   ],
   "source": [
    "raio = input('informe o raio do circulo')\n",
    "raio = float(raio)\n",
    "areaCirc = 3.14 * raio ** 2\n",
    "\n",
    "pi = np.pi\n",
    "print(f'O circulo com raio de {raio} mm, tem uma área de {areaCirc} mm²')"
   ]
  },
  {
   "cell_type": "markdown",
   "metadata": {},
   "source": [
    "# Exercício 12 - Faça um Programa que calcule a área de um quadrado, em seguida\n",
    "mostre o dobro desta área para o usuário."
   ]
  },
  {
   "cell_type": "code",
   "execution_count": null,
   "metadata": {},
   "outputs": [],
   "source": [
    "raioQuadrado = input('informe a area')\n",
    "raioQuadrado = float(raioQuadrado)\n",
    "areaQua = raioQuadrado ** 2\n",
    "\n",
    "\n",
    "\n"
   ]
  },
  {
   "cell_type": "code",
   "execution_count": 24,
   "metadata": {},
   "outputs": [
    {
     "data": {
      "text/plain": [
       "3.141592653589793"
      ]
     },
     "execution_count": 24,
     "metadata": {},
     "output_type": "execute_result"
    }
   ],
   "source": [
    "# carregar a biblioteca para utilizar o vaor de PI completo\n",
    "import numpy as np\n",
    "\n",
    "np.pi"
   ]
  }
 ],
 "metadata": {
  "kernelspec": {
   "display_name": "Python 3",
   "language": "python",
   "name": "python3"
  },
  "language_info": {
   "codemirror_mode": {
    "name": "ipython",
    "version": 3
   },
   "file_extension": ".py",
   "mimetype": "text/x-python",
   "name": "python",
   "nbconvert_exporter": "python",
   "pygments_lexer": "ipython3",
   "version": "3.11.0"
  }
 },
 "nbformat": 4,
 "nbformat_minor": 2
}
