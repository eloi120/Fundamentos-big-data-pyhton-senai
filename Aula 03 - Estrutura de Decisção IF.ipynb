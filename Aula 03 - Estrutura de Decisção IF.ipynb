{
 "cells": [
  {
   "cell_type": "markdown",
   "metadata": {},
   "source": [
    "## Exercício 03 - Crie duas variáveis, \"nota1\" e \"nota2\", e atribua valores numéricos a elas.\n",
    "Verifique se a média das notas é maior ou igual a 7 e imprima \"Aprovado\" ou\n",
    "\"Reprovado\" de acordo com a condição."
   ]
  },
  {
   "cell_type": "code",
   "execution_count": 9,
   "metadata": {},
   "outputs": [
    {
     "name": "stdout",
     "output_type": "stream",
     "text": [
      "REPROVADO\n"
     ]
    }
   ],
   "source": [
    "# Solicitando a inserção das notas\n",
    "\n",
    "nota1 = float(input('Digite a primeira nota'))\n",
    "nota2 = float(input('Digite a segunda nota'))\n",
    "\n",
    "media = (nota1 + nota2) /2  \n",
    "\n",
    "if media >= 7:\n",
    "    print('APROVADO')\n",
    "\n",
    "else: \n",
    "    print('REPROVADO')"
   ]
  },
  {
   "cell_type": "markdown",
   "metadata": {},
   "source": [
    "## Exercício 04 - Crie uma variável chamada \"idade\" e atribua um valor inteiro a ela.\n",
    "Verifique se a idade está dentro do intervalo de 18 a 30 (inclusive) e imprima a\n",
    "mensagem \"Idade válida\" ou \"Idade inválida\" de acordo com a condição."
   ]
  },
  {
   "cell_type": "code",
   "execution_count": null,
   "metadata": {},
   "outputs": [],
   "source": [
    "# \"and\" serve para atender todas as condições impostas no if, por exemplo o sistema de login no cadastro, caso a senha for incorreta ele não vai conseguir acessar\n",
    "# No caso a baixo ele quer um número que mostre do número 18 e 30\n",
    "\n",
    "idade = int(float('Informe uma idade entre 18 e 30'))\n",
    "\n",
    "if idade >= 18 and idade <= 30:\n",
    "    print('Idade Válida')\n",
    "\n",
    "else:\n",
    "    print('Idade Inválida!')"
   ]
  },
  {
   "cell_type": "markdown",
   "metadata": {},
   "source": [
    "## Exercício 05 - Crie uma variável chamada \"numero\" e atribua um valor inteiro a ela.\n",
    "Verifique se o número é par ou ímpar e imprima a mensagem correspondente."
   ]
  },
  {
   "cell_type": "code",
   "execution_count": 10,
   "metadata": {},
   "outputs": [
    {
     "data": {
      "text/plain": [
       "0"
      ]
     },
     "execution_count": 10,
     "metadata": {},
     "output_type": "execute_result"
    }
   ],
   "source": [
    "numero = int(input('Informe um número inteiro'))\n",
    "\n",
    "# Este bloco calcula o resto da divisão do valor inserido por 2\n",
    "resto = numero % 2\n",
    "\n",
    "# Caso o resto seja igual a zero, quer dizer que o número é par\n",
    "if resto == 0:\n",
    "    print(f'O número {numero} é par')\n",
    "else:\n",
    "    print(f'O número {numero} é ímpar')\n",
    "\n"
   ]
  },
  {
   "cell_type": "markdown",
   "metadata": {},
   "source": [
    "## Exercício 06 - Crie uma variável chamada \"horario\" e atribua um valor inteiro\n",
    "representando a hora do dia (em formato 24 horas). Verifique se o horário está dentro\n",
    "do período da manhã (das 6h às 12h), da tarde (das 12h às 18h) ou da noite (das 18h\n",
    "às 23h) e imprima a mensagem correspondente."
   ]
  },
  {
   "cell_type": "code",
   "execution_count": 26,
   "metadata": {},
   "outputs": [
    {
     "name": "stdout",
     "output_type": "stream",
     "text": [
      "Madrugada\n"
     ]
    }
   ],
   "source": [
    "horario = int(input('Digite um horario'))\n",
    "\n",
    "# Verificar se o horário informado está\n",
    "# no período da manhã, tarde ou noite\n",
    "if horario >= 6 and horario <12:\n",
    "    print('Manhã')\n",
    "\n",
    "elif horario >= 12 and horario < 18:\n",
    "    print('Tarde')\n",
    "\n",
    "elif horario >= 18 and horario <= 23:\n",
    "    print('Noite')\n",
    "\n",
    "else:\n",
    "    print('Madrugada')"
   ]
  },
  {
   "cell_type": "markdown",
   "metadata": {},
   "source": [
    "## Exercício 07 - Crie uma variável chamada \"peso\" e atribua um valor numérico a ela.\n",
    "Verifique se o peso está dentro do intervalo de 50 a 100 (inclusive) e imprima a\n",
    "mensagem \"Peso válido\" ou \"Peso inválido\" de acordo com a condição."
   ]
  },
  {
   "cell_type": "code",
   "execution_count": 29,
   "metadata": {},
   "outputs": [
    {
     "name": "stdout",
     "output_type": "stream",
     "text": [
      "Peso Inválido\n"
     ]
    }
   ],
   "source": [
    "peso = float(input('Informe um peso de um produto'))\n",
    "\n",
    "if peso >= 50 and peso <= 100:\n",
    "    print(f'O peso do produto é {peso}, portanto é Valido!')\n",
    "else:\n",
    "    print(f'O peso do produto é {peso}, portanto é inválido')"
   ]
  },
  {
   "cell_type": "markdown",
   "metadata": {},
   "source": [
    "## Exercício 08 - Crie uma variável chamada \"numero\" e atribua um valor inteiro a ela.\n",
    "Verifique se o número é múltiplo de 3 e de 5 ao mesmo tempo e imprima a mensagem\n",
    "correspondente."
   ]
  },
  {
   "cell_type": "code",
   "execution_count": 33,
   "metadata": {},
   "outputs": [
    {
     "name": "stdout",
     "output_type": "stream",
     "text": [
      "O número 30 é divisivel tanto por 3 quanto por 5\n"
     ]
    }
   ],
   "source": [
    "numero = int(input('Digite o número'))\n",
    "\n",
    "\n",
    "if(numero % 3 == 0) and (numero % 5 ==0):\n",
    "    print(f'O número {numero} é um multiplo de 3 e 5.')\n",
    "\n",
    "else:\n",
    "    print(f'O número {numero} não é multiplo de 3 e 5')\n",
    "    \n"
   ]
  },
  {
   "cell_type": "markdown",
   "metadata": {},
   "source": [
    "## Exercício 09 - Crie uma variável chamada \"ano\" e atribua um valor inteiro\n",
    "representando um ano. Verifique se o ano é bissexto (divisível por 4, mas não por 100,\n",
    "exceto se for divisível por 400) e imprima a mensagem correspondente."
   ]
  },
  {
   "cell_type": "code",
   "execution_count": 36,
   "metadata": {},
   "outputs": [
    {
     "name": "stdout",
     "output_type": "stream",
     "text": [
      "O ano 2000 é bissexto.\n"
     ]
    }
   ],
   "source": [
    "ano = int(input('infome o ano'))\n",
    "\n",
    "if (ano % 4 == 0 and ano % 100 != 0) or ano % 400 == 0:\n",
    "    print(f'O ano {ano} é bissexto.')\n",
    "\n",
    "else:\n",
    "    print(f'o ano {ano} não é bissexto')\n"
   ]
  },
  {
   "cell_type": "markdown",
   "metadata": {},
   "source": [
    "## Exercício 15 - Faça um programa para a leitura de duas notas parciais de um aluno. O\n",
    "programa deve calcular a média alcançada por aluno e apresentar:\n",
    "• A mensagem \"Aprovado\", se a média alcançada for maior ou igual a sete;\n",
    "• A mensagem \"Reprovado\", se a média for menor do que sete;\n",
    "• A mensagem \"Aprovado com Distinção\", se a média for igual a dez."
   ]
  },
  {
   "cell_type": "code",
   "execution_count": 44,
   "metadata": {},
   "outputs": [
    {
     "name": "stdout",
     "output_type": "stream",
     "text": [
      "Aprovado, sua média final é 9.0\n"
     ]
    }
   ],
   "source": [
    "# receber as notas\n",
    "nota1 = float(input('Insira a primeira nota'))\n",
    "nota2 = float(input('Insita a segunda nota'))\n",
    "\n",
    "#calculo da media\n",
    "media = (nota1 + nota2) / 2\n",
    "\n",
    "if media >= 7 and media <10:\n",
    "    print(f'Aprovado, sua média final é {media}')\n",
    "elif media < 7:\n",
    "    print(f'Reprovado, sua média final é {media}')\n",
    "elif media == 10:\n",
    "    print(f'Aprovado com Distinção, sua média final é {media}')\n",
    "\n",
    "else:\n",
    "    print('Nota Inválida')\n"
   ]
  },
  {
   "cell_type": "markdown",
   "metadata": {},
   "source": [
    "## Exercício 16 - Faça um Programa que leia três números e mostre o maior deles."
   ]
  },
  {
   "cell_type": "code",
   "execution_count": 48,
   "metadata": {},
   "outputs": [
    {
     "name": "stdout",
     "output_type": "stream",
     "text": [
      "o maior é o 30\n"
     ]
    }
   ],
   "source": [
    "num1 = int(input('Digite o primeiro número'))\n",
    "num2 = int(input('Digite o segundo número'))\n",
    "num3 = int(input('Digite o terceiro número'))\n",
    "\n",
    "if num1 > num2 and num1 > num3:\n",
    "    print(f'o maior é o número: {num1}')\n",
    "elif num2 > num1 and num2 > num3:\n",
    "    print(f'o maior é o número:{num2}')\n",
    "\n",
    "elif num3 > num1 and num3 > num2:\n",
    "    print(f'o maior é o número: {num3}')\n",
    "\n",
    "else:\n",
    "    print('Informe três valores diferentes')"
   ]
  },
  {
   "cell_type": "markdown",
   "metadata": {},
   "source": [
    "## Exercício 17 - Faça um Programa que leia três números e mostre o maior e o menor\n",
    "deles."
   ]
  },
  {
   "cell_type": "code",
   "execution_count": 57,
   "metadata": {},
   "outputs": [
    {
     "name": "stdout",
     "output_type": "stream",
     "text": [
      "o maior é o número: 30\n",
      "O menor número é o 10\n"
     ]
    }
   ],
   "source": [
    "num1 = int(input('Digite o primeiro número'))\n",
    "num2 = int(input('Digite o segundo número'))\n",
    "num3 = int(input('Digite o terceiro número'))\n",
    "\n",
    "if num1 > num2 and num1 > num3:\n",
    "    print(f'O maior número é o {num1}')\n",
    "elif num2 > num1 and num2 > num3:\n",
    "    print(f'o maior é o número:{num2}')\n",
    "\n",
    "elif num3 > num1 and num3 > num2:\n",
    "    print(f'o maior é o número: {num3}')\n",
    "\n",
    "if num1 < num2 and num1 < num3:\n",
    "    print(f'O menor número é o {num1}')\n",
    "elif num2 < num1 and num2 < num3:\n",
    "    print(f'o menor é o número:{num2}')\n",
    "\n",
    "elif num3 < num1 and num3 < num2:\n",
    "    print(f'o menor é o número: {num3}')\n",
    "\n",
    "\n"
   ]
  }
 ],
 "metadata": {
  "kernelspec": {
   "display_name": "Python 3",
   "language": "python",
   "name": "python3"
  },
  "language_info": {
   "codemirror_mode": {
    "name": "ipython",
    "version": 3
   },
   "file_extension": ".py",
   "mimetype": "text/x-python",
   "name": "python",
   "nbconvert_exporter": "python",
   "pygments_lexer": "ipython3",
   "version": "3.11.0"
  }
 },
 "nbformat": 4,
 "nbformat_minor": 2
}
