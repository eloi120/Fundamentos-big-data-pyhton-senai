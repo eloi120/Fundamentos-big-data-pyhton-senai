{
 "cells": [
  {
   "cell_type": "markdown",
   "metadata": {},
   "source": [
    "## Exercício 01 - Crie uma lista com nomes de 4 times de futebol.\n",
    "\n",
    "a) Palmeiras\n",
    "b) São Paulo\n",
    "c) Santos\n",
    "d) Água Santa\n",
    "e) Acesse o time que está na 3a posição.\n",
    "f) Crie uma lista com duas listas de 3 times de futebol, cada uma de uma\n",
    "divisão diferente."
   ]
  },
  {
   "cell_type": "code",
   "execution_count": 4,
   "metadata": {},
   "outputs": [],
   "source": [
    "times = ['palmeiras','são paulo', 'santos','agua santa']"
   ]
  },
  {
   "cell_type": "code",
   "execution_count": null,
   "metadata": {},
   "outputs": [],
   "source": [
    "times[3]"
   ]
  },
  {
   "cell_type": "code",
   "execution_count": 3,
   "metadata": {},
   "outputs": [
    {
     "name": "stdout",
     "output_type": "stream",
     "text": [
      "[['palmeiras', 'agua santa', 'santos', 'sport'], ['santos', 'corinthians', 'são paulo', 'flamengo']]\n"
     ]
    }
   ],
   "source": [
    "# f) Crie uma lista com duas listas de 3 times de futebol, cada uma de uma\n",
    "# divisão diferente.\n",
    "\n",
    "times_A = ['palmeiras', 'agua santa', 'santos', 'sport']\n",
    "times_B = ['santos', 'corinthians', 'são paulo', 'flamengo']\n",
    "\n",
    "lista_times = [times_A, times_B]\n",
    "\n",
    "print(lista_times)\n",
    "\n",
    "\n",
    "## [['palmeiras', 'agua santa', 'santos', 'sport'], ['santos', 'corinthians', 'são paulo', 'flamengo']]\n",
    "#            [0]                                                     [1]\n"
   ]
  },
  {
   "cell_type": "code",
   "execution_count": null,
   "metadata": {},
   "outputs": [],
   "source": [
    "lista_times[1][2]"
   ]
  },
  {
   "cell_type": "markdown",
   "metadata": {},
   "source": [
    "## Exercício 02 - Crie uma lista com 3 diferentes moedas. Acrescente mais 2\n",
    "outras moedas à essa mesma lista."
   ]
  },
  {
   "cell_type": "code",
   "execution_count": 17,
   "metadata": {},
   "outputs": [],
   "source": [
    "moedas = ['euro', 'real', 'dolar']\n",
    "\n"
   ]
  },
  {
   "cell_type": "code",
   "execution_count": 18,
   "metadata": {},
   "outputs": [
    {
     "data": {
      "text/plain": [
       "['euro', 'real', 'dolar', 'peso', 'libra']"
      ]
     },
     "execution_count": 18,
     "metadata": {},
     "output_type": "execute_result"
    }
   ],
   "source": [
    "# Adicionando elementos ao final da lista/ adicionar mais um novo elemento na lista\n",
    "\n",
    "moedas.append('peso')\n",
    "moedas.append('libra')\n",
    "\n",
    "moedas"
   ]
  },
  {
   "cell_type": "code",
   "execution_count": 19,
   "metadata": {},
   "outputs": [
    {
     "data": {
      "text/plain": [
       "['euro', 'Cruzeiro', 'real', 'dolar', 'peso', 'libra']"
      ]
     },
     "execution_count": 19,
     "metadata": {},
     "output_type": "execute_result"
    }
   ],
   "source": [
    "# Adicionar im elemento a posição 1 da lista\n",
    "\n",
    "moedas.insert(1,'Cruzeiro')\n",
    "moedas"
   ]
  },
  {
   "cell_type": "code",
   "execution_count": 20,
   "metadata": {},
   "outputs": [
    {
     "data": {
      "text/plain": [
       "['euro', 'real', 'dolar', 'peso', 'libra']"
      ]
     },
     "execution_count": 20,
     "metadata": {},
     "output_type": "execute_result"
    }
   ],
   "source": [
    "# Excluir um elemento\n",
    "\n",
    "moedas.remove('Cruzeiro')\n",
    "moedas"
   ]
  },
  {
   "cell_type": "markdown",
   "metadata": {},
   "source": [
    "## Exercício 03 - Crie uma string com a lista do exercício anterior."
   ]
  },
  {
   "cell_type": "code",
   "execution_count": 6,
   "metadata": {},
   "outputs": [
    {
     "name": "stdout",
     "output_type": "stream",
     "text": [
      "palmeiras;são paulo;santos;agua santa\n"
     ]
    }
   ],
   "source": [
    "listaConvertida = ';'.join(times)\n",
    "\n",
    "print(listaConvertida)"
   ]
  },
  {
   "cell_type": "markdown",
   "metadata": {},
   "source": [
    "## Exercício 04 - Agora utilize a string do exercício 6 para recriar uma lista."
   ]
  },
  {
   "cell_type": "code",
   "execution_count": 8,
   "metadata": {},
   "outputs": [
    {
     "name": "stdout",
     "output_type": "stream",
     "text": [
      "['palmeiras', 'são paulo', 'santos', 'agua santa']\n",
      "<class 'list'>\n"
     ]
    }
   ],
   "source": [
    "lista = listaConvertida.split(';')\n",
    "\n",
    "print(lista)\n",
    "print(type(lista))"
   ]
  }
 ],
 "metadata": {
  "kernelspec": {
   "display_name": "Python 3",
   "language": "python",
   "name": "python3"
  },
  "language_info": {
   "codemirror_mode": {
    "name": "ipython",
    "version": 3
   },
   "file_extension": ".py",
   "mimetype": "text/x-python",
   "name": "python",
   "nbconvert_exporter": "python",
   "pygments_lexer": "ipython3",
   "version": "3.11.0"
  }
 },
 "nbformat": 4,
 "nbformat_minor": 2
}
