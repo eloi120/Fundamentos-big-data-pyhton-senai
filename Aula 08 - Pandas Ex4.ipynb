{
 "cells": [
  {
   "cell_type": "markdown",
   "metadata": {},
   "source": [
    "Exercício 04 – Criando relatórios em função do arquivo dados-vendas.xlsx.\n",
    "\n",
    "a) Crie um dataframe, utilizando o arquivo dados-vendas.xlsx. Crie data frames\n",
    "para dividir a planilha vendas em 4 arquivos. São eles:"
   ]
  },
  {
   "cell_type": "code",
   "execution_count": null,
   "metadata": {},
   "outputs": [],
   "source": [
    "import pandas as pd\n",
    "\n",
    "caminho = './Arquivos/dados-vendas (3).xlsx'\n",
    "\n",
    "dados = pd.read_excel(caminho)\n",
    "dados"
   ]
  },
  {
   "cell_type": "markdown",
   "metadata": {},
   "source": [
    "### Dividir o dataframe em 4 tabelas\n",
    "- Tabela fato\n",
    "- Dimensão produto\n",
    "- Dimensão vendedor\n",
    "- Dimensão lojas\n",
    "\n",
    "Tabela fato: - ID-Produto;\n",
    "- ID-Loja;\n",
    "- ID-Vendedor;\n",
    "- Data;\n",
    "- ValorVenda."
   ]
  },
  {
   "cell_type": "code",
   "execution_count": 7,
   "metadata": {},
   "outputs": [],
   "source": [
    "### Importando o módulo OS\n",
    "import os\n",
    "\n",
    "### Criando uma pasta no diretório atual\n",
    "os.mkdir('./relatorios-ex05')\n",
    "\n"
   ]
  },
  {
   "cell_type": "code",
   "execution_count": 27,
   "metadata": {},
   "outputs": [],
   "source": [
    "# será usado df.loc[linhas, colunas] para pegar as colunas e linhas desejadas\n",
    "# com o : será pego todas de linhas ou colunas ou ambos\n",
    "# Criando a tabela fato em função do dataframe original\n",
    "\n",
    "\n",
    "# dados.loc[2:6,['Categoria','Segmento']] # para pegar da linha 2 a 6 das colunas Categoria e Segmento\n",
    "\n",
    "# Neste devemos montar a tabela com todas as informações da coluna ID-Produto, Loja, ID-Vendedor, Data Venda e ValorVenda, essa tabela vai se chamar tabela fato\n",
    "tbl_fato = dados.loc[:,['ID-Produto','Loja','ID-Vendedor','Data Venda','ValorVenda']]\n",
    "\n",
    "tbl_fato = tbl_fato.rename(columns={'Loja':'ID-Loja'})\n",
    "\n",
    "tbl_fato.to_excel('./relatorios-ex05/tabelaFato.xlsx')\n",
    "\n"
   ]
  },
  {
   "cell_type": "code",
   "execution_count": 18,
   "metadata": {},
   "outputs": [],
   "source": [
    "# Criando a tabela dimensão produtos\n",
    "\n",
    "dim_produtos = dados.loc[:,['ID-Produto','Produto','Categoria','Segmento','Fabricante']]\n",
    "\n",
    "# Veficiando se há dados duplicados\n",
    "dim_produtos.duplicated().sum()\n",
    "\n",
    "# Remover as duplicadas\n",
    "dim_produtos = dim_produtos.drop_duplicates()\n",
    "\n",
    "# Salvar o arquivo no diretório\n",
    "dim_produtos.to_excel('./relatorios-ex05/dim-produtos.xlsx')"
   ]
  },
  {
   "cell_type": "code",
   "execution_count": 34,
   "metadata": {},
   "outputs": [],
   "source": [
    "# Criando a tabela dimensão lojas\n",
    "\n",
    "dim_lojas = dados.loc[:,['Loja','Cidade','Estado']]\n",
    "\n",
    "dim_lojas.to_excel('./relatorios-ex05/dim-lojas.xlsx')"
   ]
  },
  {
   "cell_type": "code",
   "execution_count": null,
   "metadata": {},
   "outputs": [],
   "source": [
    "# Criando a tabela dimensão Vendedor\n",
    "\n",
    "dim_vendedor = dados.loc[:,['ID-Vendedor','Vendedor']]\n",
    "\n",
    "dim_vendedor.to_excel('./relatorios-ex05/dim-vendedor.xlsx')\n",
    "\n",
    "dim_vendedor"
   ]
  },
  {
   "cell_type": "markdown",
   "metadata": {},
   "source": [
    "#### Gerar relatórios por Vendedor"
   ]
  },
  {
   "cell_type": "code",
   "execution_count": 36,
   "metadata": {},
   "outputs": [],
   "source": [
    "#1 Criar uma pasta para salvar os relatorios por vendedor\n",
    "\n",
    "os.mkdir('./relatorios-ex05/vendedores')\n",
    "\n",
    "#2 Selecionar a coluna vendedor da dataframe e remover as duplicadas\n",
    "\n",
    "df_vendedores = dados['Vendedor'].drop_duplicates()\n",
    "\n",
    "#3 Converter o dataframe df_vendedores em lista\n",
    "\n",
    "vendedores = df_vendedores.to_list()\n"
   ]
  },
  {
   "cell_type": "markdown",
   "metadata": {},
   "source": [
    "Neste exercicio nós criamos uma pasta para armazenar os relatorios de vendedor por vendedor e depois tiraremos todos os duplicados para assim transformar em uma lista.\n",
    "transformando em uma lista devemos loopar esses dados com os nomes dos vendedores e a cada vendedor que ele passar vai ser salvo um arquivo excel com os dados do vendedor respectivo"
   ]
  },
  {
   "cell_type": "code",
   "execution_count": 44,
   "metadata": {},
   "outputs": [
    {
     "name": "stdout",
     "output_type": "stream",
     "text": [
      "Filtrando... Ana Teixeira\n",
      "Filtrando... Josias Silva\n",
      "Filtrando... Mateus Gonçalves\n",
      "Filtrando... Artur Moreira\n",
      "Filtrando... Rodrigo Fagundes\n",
      "Filtrando... Fernando Zambrini\n",
      "Filtrando... André Pereira\n",
      "Filtrando... Maria Fernandes\n",
      "Filtrando... Aline Sutter\n"
     ]
    }
   ],
   "source": [
    "# Estruturar a repetição para filtrar o dataframe\n",
    "\n",
    "for vendedor in vendedores:\n",
    "    print('Filtrando...',vendedor)\n",
    "    df_final = dados[dados['Vendedor'] == vendedor]\n",
    "    df_final.to_excel('./relatorios-ex05/vendedores/' + vendedor + '.xlsx')\n"
   ]
  },
  {
   "cell_type": "code",
   "execution_count": null,
   "metadata": {},
   "outputs": [],
   "source": [
    "## c) Repita esse procedimento para os campos Categoria, Segmento,\n",
    "##Fabricante, Cidade e Estado. Reescreva todo o código para cada\n",
    "## caso, com o objetivode exercitar a sintaxe dos comandos.\n",
    "\n",
    "\n",
    "os.mkdir('./relatorios-ex05/Fabricante')\n",
    "\n"
   ]
  },
  {
   "cell_type": "code",
   "execution_count": 54,
   "metadata": {},
   "outputs": [],
   "source": [
    "# Limpando os duplicados e transformando em lista para loopar\n",
    "df_fabricantes = dados['Fabricante'].drop_duplicates()\n",
    "\n",
    "fabricantes = dados['Fabricante'].to_list()\n",
    "\n"
   ]
  },
  {
   "cell_type": "code",
   "execution_count": 55,
   "metadata": {},
   "outputs": [
    {
     "name": "stdout",
     "output_type": "stream",
     "text": [
      "LG\n",
      "Brastemp\n",
      "Brastemp\n",
      "Brastemp\n",
      "Electrolux\n",
      "Brastemp\n",
      "Brastemp\n",
      "Electrolux\n",
      "Brastemp\n",
      "Electrolux\n",
      "Brastemp\n",
      "Brastemp\n",
      "Brastemp\n",
      "Brastemp\n",
      "Brastemp\n",
      "Electrolux\n",
      "Brastemp\n",
      "Brastemp\n",
      "Electrolux\n",
      "Brastemp\n",
      "Brastemp\n",
      "Brastemp\n"
     ]
    },
    {
     "ename": "KeyboardInterrupt",
     "evalue": "",
     "output_type": "error",
     "traceback": [
      "\u001b[1;31m---------------------------------------------------------------------------\u001b[0m",
      "\u001b[1;31mKeyboardInterrupt\u001b[0m                         Traceback (most recent call last)",
      "\u001b[1;32mc:\\Users\\FIC\\Documents\\gabriel-eloi-python\\Aula 08 - Pandas Ex4.ipynb Cell 15\u001b[0m line \u001b[0;36m6\n\u001b[0;32m      <a href='vscode-notebook-cell:/c%3A/Users/FIC/Documents/gabriel-eloi-python/Aula%2008%20-%20Pandas%20Ex4.ipynb#X23sZmlsZQ%3D%3D?line=3'>4</a>\u001b[0m \u001b[39mprint\u001b[39m(fabricante)\n\u001b[0;32m      <a href='vscode-notebook-cell:/c%3A/Users/FIC/Documents/gabriel-eloi-python/Aula%2008%20-%20Pandas%20Ex4.ipynb#X23sZmlsZQ%3D%3D?line=4'>5</a>\u001b[0m df_final \u001b[39m=\u001b[39m dados[dados[\u001b[39m'\u001b[39m\u001b[39mFabricante\u001b[39m\u001b[39m'\u001b[39m] \u001b[39m==\u001b[39m fabricante]\n\u001b[1;32m----> <a href='vscode-notebook-cell:/c%3A/Users/FIC/Documents/gabriel-eloi-python/Aula%2008%20-%20Pandas%20Ex4.ipynb#X23sZmlsZQ%3D%3D?line=5'>6</a>\u001b[0m df_final\u001b[39m.\u001b[39;49mto_excel(\u001b[39m'\u001b[39;49m\u001b[39m./relatorios-ex05/Fabricante/\u001b[39;49m\u001b[39m'\u001b[39;49m \u001b[39m+\u001b[39;49m fabricante \u001b[39m+\u001b[39;49m \u001b[39m'\u001b[39;49m\u001b[39m.xlsx\u001b[39;49m\u001b[39m'\u001b[39;49m)\n",
      "File \u001b[1;32mc:\\Python311\\Lib\\site-packages\\pandas\\core\\generic.py:2252\u001b[0m, in \u001b[0;36mNDFrame.to_excel\u001b[1;34m(self, excel_writer, sheet_name, na_rep, float_format, columns, header, index, index_label, startrow, startcol, engine, merge_cells, inf_rep, freeze_panes, storage_options)\u001b[0m\n\u001b[0;32m   2239\u001b[0m \u001b[39mfrom\u001b[39;00m \u001b[39mpandas\u001b[39;00m\u001b[39m.\u001b[39;00m\u001b[39mio\u001b[39;00m\u001b[39m.\u001b[39;00m\u001b[39mformats\u001b[39;00m\u001b[39m.\u001b[39;00m\u001b[39mexcel\u001b[39;00m \u001b[39mimport\u001b[39;00m ExcelFormatter\n\u001b[0;32m   2241\u001b[0m formatter \u001b[39m=\u001b[39m ExcelFormatter(\n\u001b[0;32m   2242\u001b[0m     df,\n\u001b[0;32m   2243\u001b[0m     na_rep\u001b[39m=\u001b[39mna_rep,\n\u001b[1;32m   (...)\u001b[0m\n\u001b[0;32m   2250\u001b[0m     inf_rep\u001b[39m=\u001b[39minf_rep,\n\u001b[0;32m   2251\u001b[0m )\n\u001b[1;32m-> 2252\u001b[0m formatter\u001b[39m.\u001b[39;49mwrite(\n\u001b[0;32m   2253\u001b[0m     excel_writer,\n\u001b[0;32m   2254\u001b[0m     sheet_name\u001b[39m=\u001b[39;49msheet_name,\n\u001b[0;32m   2255\u001b[0m     startrow\u001b[39m=\u001b[39;49mstartrow,\n\u001b[0;32m   2256\u001b[0m     startcol\u001b[39m=\u001b[39;49mstartcol,\n\u001b[0;32m   2257\u001b[0m     freeze_panes\u001b[39m=\u001b[39;49mfreeze_panes,\n\u001b[0;32m   2258\u001b[0m     engine\u001b[39m=\u001b[39;49mengine,\n\u001b[0;32m   2259\u001b[0m     storage_options\u001b[39m=\u001b[39;49mstorage_options,\n\u001b[0;32m   2260\u001b[0m )\n",
      "File \u001b[1;32mc:\\Python311\\Lib\\site-packages\\pandas\\io\\formats\\excel.py:950\u001b[0m, in \u001b[0;36mExcelFormatter.write\u001b[1;34m(self, writer, sheet_name, startrow, startcol, freeze_panes, engine, storage_options)\u001b[0m\n\u001b[0;32m    947\u001b[0m \u001b[39mfinally\u001b[39;00m:\n\u001b[0;32m    948\u001b[0m     \u001b[39m# make sure to close opened file handles\u001b[39;00m\n\u001b[0;32m    949\u001b[0m     \u001b[39mif\u001b[39;00m need_save:\n\u001b[1;32m--> 950\u001b[0m         writer\u001b[39m.\u001b[39;49mclose()\n",
      "File \u001b[1;32mc:\\Python311\\Lib\\site-packages\\pandas\\io\\excel\\_base.py:1326\u001b[0m, in \u001b[0;36mExcelWriter.close\u001b[1;34m(self)\u001b[0m\n\u001b[0;32m   1324\u001b[0m \u001b[39mdef\u001b[39;00m \u001b[39mclose\u001b[39m(\u001b[39mself\u001b[39m) \u001b[39m-\u001b[39m\u001b[39m>\u001b[39m \u001b[39mNone\u001b[39;00m:\n\u001b[0;32m   1325\u001b[0m \u001b[39m    \u001b[39m\u001b[39m\"\"\"synonym for save, to make it more file-like\"\"\"\u001b[39;00m\n\u001b[1;32m-> 1326\u001b[0m     \u001b[39mself\u001b[39;49m\u001b[39m.\u001b[39;49m_save()\n\u001b[0;32m   1327\u001b[0m     \u001b[39mself\u001b[39m\u001b[39m.\u001b[39m_handles\u001b[39m.\u001b[39mclose()\n",
      "File \u001b[1;32mc:\\Python311\\Lib\\site-packages\\pandas\\io\\excel\\_xlsxwriter.py:230\u001b[0m, in \u001b[0;36mXlsxWriter._save\u001b[1;34m(self)\u001b[0m\n\u001b[0;32m    226\u001b[0m \u001b[39mdef\u001b[39;00m \u001b[39m_save\u001b[39m(\u001b[39mself\u001b[39m) \u001b[39m-\u001b[39m\u001b[39m>\u001b[39m \u001b[39mNone\u001b[39;00m:\n\u001b[0;32m    227\u001b[0m \u001b[39m    \u001b[39m\u001b[39m\"\"\"\u001b[39;00m\n\u001b[0;32m    228\u001b[0m \u001b[39m    Save workbook to disk.\u001b[39;00m\n\u001b[0;32m    229\u001b[0m \u001b[39m    \"\"\"\u001b[39;00m\n\u001b[1;32m--> 230\u001b[0m     \u001b[39mself\u001b[39;49m\u001b[39m.\u001b[39;49mbook\u001b[39m.\u001b[39;49mclose()\n",
      "File \u001b[1;32mc:\\Python311\\Lib\\site-packages\\xlsxwriter\\workbook.py:322\u001b[0m, in \u001b[0;36mWorkbook.close\u001b[1;34m(self)\u001b[0m\n\u001b[0;32m    320\u001b[0m \u001b[39mif\u001b[39;00m \u001b[39mnot\u001b[39;00m \u001b[39mself\u001b[39m\u001b[39m.\u001b[39mfileclosed:\n\u001b[0;32m    321\u001b[0m     \u001b[39mtry\u001b[39;00m:\n\u001b[1;32m--> 322\u001b[0m         \u001b[39mself\u001b[39;49m\u001b[39m.\u001b[39;49m_store_workbook()\n\u001b[0;32m    323\u001b[0m     \u001b[39mexcept\u001b[39;00m \u001b[39mIOError\u001b[39;00m \u001b[39mas\u001b[39;00m e:\n\u001b[0;32m    324\u001b[0m         \u001b[39mraise\u001b[39;00m FileCreateError(e)\n",
      "File \u001b[1;32mc:\\Python311\\Lib\\site-packages\\xlsxwriter\\workbook.py:717\u001b[0m, in \u001b[0;36mWorkbook._store_workbook\u001b[1;34m(self)\u001b[0m\n\u001b[0;32m    715\u001b[0m packager\u001b[39m.\u001b[39m_set_tmpdir(\u001b[39mself\u001b[39m\u001b[39m.\u001b[39mtmpdir)\n\u001b[0;32m    716\u001b[0m packager\u001b[39m.\u001b[39m_set_in_memory(\u001b[39mself\u001b[39m\u001b[39m.\u001b[39min_memory)\n\u001b[1;32m--> 717\u001b[0m xml_files \u001b[39m=\u001b[39m packager\u001b[39m.\u001b[39;49m_create_package()\n\u001b[0;32m    719\u001b[0m \u001b[39m# Free up the Packager object.\u001b[39;00m\n\u001b[0;32m    720\u001b[0m packager \u001b[39m=\u001b[39m \u001b[39mNone\u001b[39;00m\n",
      "File \u001b[1;32mc:\\Python311\\Lib\\site-packages\\xlsxwriter\\packager.py:137\u001b[0m, in \u001b[0;36mPackager._create_package\u001b[1;34m(self)\u001b[0m\n\u001b[0;32m    135\u001b[0m \u001b[39mself\u001b[39m\u001b[39m.\u001b[39m_write_root_rels_file()\n\u001b[0;32m    136\u001b[0m \u001b[39mself\u001b[39m\u001b[39m.\u001b[39m_write_workbook_rels_file()\n\u001b[1;32m--> 137\u001b[0m \u001b[39mself\u001b[39;49m\u001b[39m.\u001b[39;49m_write_worksheet_files()\n\u001b[0;32m    138\u001b[0m \u001b[39mself\u001b[39m\u001b[39m.\u001b[39m_write_chartsheet_files()\n\u001b[0;32m    139\u001b[0m \u001b[39mself\u001b[39m\u001b[39m.\u001b[39m_write_workbook_file()\n",
      "File \u001b[1;32mc:\\Python311\\Lib\\site-packages\\xlsxwriter\\packager.py:194\u001b[0m, in \u001b[0;36mPackager._write_worksheet_files\u001b[1;34m(self)\u001b[0m\n\u001b[0;32m    189\u001b[0m     worksheet\u001b[39m.\u001b[39m_write_single_row()\n\u001b[0;32m    191\u001b[0m worksheet\u001b[39m.\u001b[39m_set_xml_writer(\n\u001b[0;32m    192\u001b[0m     \u001b[39mself\u001b[39m\u001b[39m.\u001b[39m_filename(\u001b[39m\"\u001b[39m\u001b[39mxl/worksheets/sheet\u001b[39m\u001b[39m\"\u001b[39m \u001b[39m+\u001b[39m \u001b[39mstr\u001b[39m(index) \u001b[39m+\u001b[39m \u001b[39m\"\u001b[39m\u001b[39m.xml\u001b[39m\u001b[39m\"\u001b[39m)\n\u001b[0;32m    193\u001b[0m )\n\u001b[1;32m--> 194\u001b[0m worksheet\u001b[39m.\u001b[39;49m_assemble_xml_file()\n\u001b[0;32m    195\u001b[0m index \u001b[39m+\u001b[39m\u001b[39m=\u001b[39m \u001b[39m1\u001b[39m\n",
      "File \u001b[1;32mc:\\Python311\\Lib\\site-packages\\xlsxwriter\\worksheet.py:4607\u001b[0m, in \u001b[0;36mWorksheet._assemble_xml_file\u001b[1;34m(self)\u001b[0m\n\u001b[0;32m   4605\u001b[0m \u001b[39m# Write the worksheet data such as rows columns and cells.\u001b[39;00m\n\u001b[0;32m   4606\u001b[0m \u001b[39mif\u001b[39;00m \u001b[39mnot\u001b[39;00m \u001b[39mself\u001b[39m\u001b[39m.\u001b[39mconstant_memory:\n\u001b[1;32m-> 4607\u001b[0m     \u001b[39mself\u001b[39;49m\u001b[39m.\u001b[39;49m_write_sheet_data()\n\u001b[0;32m   4608\u001b[0m \u001b[39melse\u001b[39;00m:\n\u001b[0;32m   4609\u001b[0m     \u001b[39mself\u001b[39m\u001b[39m.\u001b[39m_write_optimized_sheet_data()\n",
      "File \u001b[1;32mc:\\Python311\\Lib\\site-packages\\xlsxwriter\\worksheet.py:6355\u001b[0m, in \u001b[0;36mWorksheet._write_sheet_data\u001b[1;34m(self)\u001b[0m\n\u001b[0;32m   6353\u001b[0m \u001b[39melse\u001b[39;00m:\n\u001b[0;32m   6354\u001b[0m     \u001b[39mself\u001b[39m\u001b[39m.\u001b[39m_xml_start_tag(\u001b[39m\"\u001b[39m\u001b[39msheetData\u001b[39m\u001b[39m\"\u001b[39m)\n\u001b[1;32m-> 6355\u001b[0m     \u001b[39mself\u001b[39;49m\u001b[39m.\u001b[39;49m_write_rows()\n\u001b[0;32m   6356\u001b[0m     \u001b[39mself\u001b[39m\u001b[39m.\u001b[39m_xml_end_tag(\u001b[39m\"\u001b[39m\u001b[39msheetData\u001b[39m\u001b[39m\"\u001b[39m)\n",
      "File \u001b[1;32mc:\\Python311\\Lib\\site-packages\\xlsxwriter\\worksheet.py:6555\u001b[0m, in \u001b[0;36mWorksheet._write_rows\u001b[1;34m(self)\u001b[0m\n\u001b[0;32m   6553\u001b[0m         \u001b[39mif\u001b[39;00m col_num \u001b[39min\u001b[39;00m \u001b[39mself\u001b[39m\u001b[39m.\u001b[39mtable[row_num]:\n\u001b[0;32m   6554\u001b[0m             col_ref \u001b[39m=\u001b[39m \u001b[39mself\u001b[39m\u001b[39m.\u001b[39mtable[row_num][col_num]\n\u001b[1;32m-> 6555\u001b[0m             \u001b[39mself\u001b[39;49m\u001b[39m.\u001b[39;49m_write_cell(row_num, col_num, col_ref)\n\u001b[0;32m   6557\u001b[0m     \u001b[39mself\u001b[39m\u001b[39m.\u001b[39m_xml_end_tag(\u001b[39m\"\u001b[39m\u001b[39mrow\u001b[39m\u001b[39m\"\u001b[39m)\n\u001b[0;32m   6559\u001b[0m \u001b[39melif\u001b[39;00m row_num \u001b[39min\u001b[39;00m \u001b[39mself\u001b[39m\u001b[39m.\u001b[39mcomments:\n\u001b[0;32m   6560\u001b[0m     \u001b[39m# Row with comments in cells.\u001b[39;00m\n",
      "File \u001b[1;32mc:\\Python311\\Lib\\site-packages\\xlsxwriter\\worksheet.py:6739\u001b[0m, in \u001b[0;36mWorksheet._write_cell\u001b[1;34m(self, row, col, cell)\u001b[0m\n\u001b[0;32m   6735\u001b[0m string \u001b[39m=\u001b[39m cell\u001b[39m.\u001b[39mstring\n\u001b[0;32m   6737\u001b[0m \u001b[39mif\u001b[39;00m \u001b[39mnot\u001b[39;00m \u001b[39mself\u001b[39m\u001b[39m.\u001b[39mconstant_memory:\n\u001b[0;32m   6738\u001b[0m     \u001b[39m# Write a shared string.\u001b[39;00m\n\u001b[1;32m-> 6739\u001b[0m     \u001b[39mself\u001b[39;49m\u001b[39m.\u001b[39;49m_xml_string_element(string, attributes)\n\u001b[0;32m   6740\u001b[0m \u001b[39melse\u001b[39;00m:\n\u001b[0;32m   6741\u001b[0m     \u001b[39m# Write an optimized in-line string.\u001b[39;00m\n\u001b[0;32m   6742\u001b[0m \n\u001b[0;32m   6743\u001b[0m     \u001b[39m# Escape control characters. See SharedString.pm for details.\u001b[39;00m\n\u001b[0;32m   6744\u001b[0m     string \u001b[39m=\u001b[39m re_control_chars_1\u001b[39m.\u001b[39msub(\u001b[39mr\u001b[39m\u001b[39m\"\u001b[39m\u001b[39m_x005F\u001b[39m\u001b[39m\\\u001b[39m\u001b[39m1\u001b[39m\u001b[39m\"\u001b[39m, string)\n",
      "File \u001b[1;32mc:\\Python311\\Lib\\site-packages\\xlsxwriter\\xmlwriter.py:107\u001b[0m, in \u001b[0;36mXMLwriter._xml_string_element\u001b[1;34m(self, index, attributes)\u001b[0m\n\u001b[0;32m    104\u001b[0m     value \u001b[39m=\u001b[39m \u001b[39mself\u001b[39m\u001b[39m.\u001b[39m_escape_attributes(value)\n\u001b[0;32m    105\u001b[0m     attr \u001b[39m+\u001b[39m\u001b[39m=\u001b[39m \u001b[39m'\u001b[39m\u001b[39m \u001b[39m\u001b[39m%s\u001b[39;00m\u001b[39m=\u001b[39m\u001b[39m\"\u001b[39m\u001b[39m%s\u001b[39;00m\u001b[39m\"\u001b[39m\u001b[39m'\u001b[39m \u001b[39m%\u001b[39m (key, value)\n\u001b[1;32m--> 107\u001b[0m \u001b[39mself\u001b[39m\u001b[39m.\u001b[39mfh\u001b[39m.\u001b[39mwrite(\u001b[39m\"\"\"\u001b[39m\u001b[39m<c\u001b[39m\u001b[39m%s\u001b[39;00m\u001b[39m t=\u001b[39m\u001b[39m\"\u001b[39m\u001b[39ms\u001b[39m\u001b[39m\"\u001b[39m\u001b[39m><v>\u001b[39m\u001b[39m%d\u001b[39;00m\u001b[39m</v></c>\u001b[39m\u001b[39m\"\"\"\u001b[39m \u001b[39m%\u001b[39m (attr, index))\n",
      "\u001b[1;31mKeyboardInterrupt\u001b[0m: "
     ]
    }
   ],
   "source": [
    "# Loopar os fabricantes\n",
    "\n",
    "for fabricante in fabricantes:\n",
    "    print(fabricante)\n",
    "    df_final = dados[dados['Fabricante'] == fabricante]\n",
    "    df_final.to_excel('./relatorios-ex05/Fabricante/' + fabricante + '.xlsx')"
   ]
  }
 ],
 "metadata": {
  "kernelspec": {
   "display_name": "Python 3",
   "language": "python",
   "name": "python3"
  },
  "language_info": {
   "codemirror_mode": {
    "name": "ipython",
    "version": 3
   },
   "file_extension": ".py",
   "mimetype": "text/x-python",
   "name": "python",
   "nbconvert_exporter": "python",
   "pygments_lexer": "ipython3",
   "version": "3.11.0"
  }
 },
 "nbformat": 4,
 "nbformat_minor": 2
}
