{
 "cells": [
  {
   "cell_type": "markdown",
   "metadata": {},
   "source": [
    "## Palavras Reservadas"
   ]
  },
  {
   "cell_type": "code",
   "execution_count": 1,
   "metadata": {},
   "outputs": [
    {
     "name": "stdout",
     "output_type": "stream",
     "text": [
      "['False', 'None', 'True', 'and', 'as', 'assert', 'async', 'await', 'break', 'class', 'continue', 'def', 'del', 'elif', 'else', 'except', 'finally', 'for', 'from', 'global', 'if', 'import', 'in', 'is', 'lambda', 'nonlocal', 'not', 'or', 'pass', 'raise', 'return', 'try', 'while', 'with', 'yield']\n"
     ]
    }
   ],
   "source": [
    "import keyword\n",
    "print(keyword.kwlist)"
   ]
  },
  {
   "cell_type": "markdown",
   "metadata": {},
   "source": [
    "## Exercício 02 – Crie um programa para receber dois valores e em seguida, exiba o valor\n",
    "da diferença entre eles."
   ]
  },
  {
   "cell_type": "code",
   "execution_count": 3,
   "metadata": {},
   "outputs": [
    {
     "name": "stdout",
     "output_type": "stream",
     "text": [
      "O resultado da subtração é -6\n"
     ]
    }
   ],
   "source": [
    "num1 = 7\n",
    "num2 = 13\n",
    "\n",
    "diferenca = num1 - num2\n",
    "\n",
    "# o comando print apresenta resultados no console\n",
    "print(f'O resultado da subtração é {diferenca}')"
   ]
  },
  {
   "cell_type": "markdown",
   "metadata": {},
   "source": [
    "## Exercício 03 – Crie um programa para receber dois valores e em seguida, exiba o\n",
    "produto entre eles."
   ]
  },
  {
   "cell_type": "code",
   "execution_count": 7,
   "metadata": {},
   "outputs": [
    {
     "name": "stdout",
     "output_type": "stream",
     "text": [
      "<class 'str'>\n",
      "<class 'str'>\n",
      "<class 'float'>\n",
      "<class 'float'>\n"
     ]
    }
   ],
   "source": [
    "# Excplicação do uso do float\n",
    "\n",
    "num1 = input('Digite o primeiro valor')\n",
    "num2 = input('Digite o segundo valor')\n",
    "\n",
    "# quando é colocado input sempre diga se será float, int ou string...\n",
    "\n",
    "# verificando o tipo de dado\n",
    "print(type(num1))\n",
    "print(type(num2))\n",
    "\n",
    "# convertendo os valores em decimais\n",
    "num1 = float(num1)\n",
    "num2 = float(num2)\n",
    "\n",
    "# verificando o tipo de dado\n",
    "print(type(num1))\n",
    "print(type(num2))\n"
   ]
  },
  {
   "cell_type": "code",
   "execution_count": 8,
   "metadata": {},
   "outputs": [
    {
     "name": "stdout",
     "output_type": "stream",
     "text": [
      "O resultado do produto é 600.0\n"
     ]
    }
   ],
   "source": [
    "# Calculo do produto\n",
    "\n",
    "num1 = input('Digite o primeiro valor')\n",
    "num2 = input('Digite o segundo valor')\n",
    "\n",
    "num1 = float(num1)\n",
    "num2 = float(num2)\n",
    "\n",
    "produto = num1 * num2\n",
    "\n",
    "print(f'O resultado do produto é {produto}')"
   ]
  },
  {
   "cell_type": "markdown",
   "metadata": {},
   "source": [
    "## Exercício 04 - Crie um programa para receber dois valores e em seguida, exiba o\n",
    "quociente entre eles."
   ]
  },
  {
   "cell_type": "code",
   "execution_count": 13,
   "metadata": {},
   "outputs": [
    {
     "name": "stdout",
     "output_type": "stream",
     "text": [
      "O resultado do quociente é 6.0\n"
     ]
    }
   ],
   "source": [
    "nmu1 = input('Digite o primeiro valor')\n",
    "num2 = input('Digite o segundo valor')\n",
    "\n",
    "num1 = float(num1)\n",
    "num2 = float(num2)\n",
    "\n",
    "quociente = num1 % num2\n",
    "\n",
    "print(f'O resultado do quociente é {quociente}')"
   ]
  },
  {
   "cell_type": "markdown",
   "metadata": {},
   "source": [
    "## Exercício 16 - Faça um Programa que peça 2 números inteiros e um número real.\n",
    "Calcule e mostre:\n",
    "\n",
    "a- o produto do dobro do primeiro com metade do segundo.\n",
    "b- a soma do triplo do primeiro com o terceiro.\n",
    "c- o terceiro elevado ao cubo."
   ]
  },
  {
   "cell_type": "code",
   "execution_count": 19,
   "metadata": {},
   "outputs": [
    {
     "name": "stdout",
     "output_type": "stream",
     "text": [
      "Alternativa A: 10.0\n",
      "Alternativa B: 8.0\n",
      "Alternatica C: 125.0\n"
     ]
    }
   ],
   "source": [
    "# recebendo valores e convertendo\n",
    "num1 = int(input('Digite o primeiro valor'))\n",
    "num2 = int(input('Digite o segundo valor'))\n",
    "\n",
    "num3 = float(input('Digite o terceiro valor'))\n",
    "\n",
    "# Calculando o produto do dobro do primeiro com a metade do segundo\n",
    "\n",
    "questaoA = (num1 * 2) * (num2/2)  \n",
    "print('Alternativa A:', questaoA)\n",
    "\n",
    "# a soma do triplo do primeiro com o terceiro\n",
    "\n",
    "questaoB = num1 * 3 + num3\n",
    "print('Alternativa B:', questaoB)\n",
    "\n",
    "# O terceiro elevado ao cubo\n",
    "\n",
    "questaoC = num3 ** 3\n",
    "print('Alternatica C:', questaoC)\n",
    "\n",
    "\n"
   ]
  },
  {
   "cell_type": "markdown",
   "metadata": {},
   "source": [
    "## Exercício 17 - João Papo-de-Pescador, homem de bem, comprou um microcomputador\n",
    "para controlar o rendimento diário de seu trabalho. Toda vez que ele traz um peso de\n",
    "peixes maior que o estabelecido pelo regulamento de pesca do estado de São Paulo\n",
    "(50 quilos) deve pagar uma multa de R$ 4,00 por quilo excedente. João precisa que\n",
    "você faça um programa que leia a variável peso (peso de peixes) e calcule o excesso.\n",
    "Gravar na variável excesso a quantidade de quilos além do limite e na variável multa o\n",
    "valor da multa que João deverá pagar. Imprima os dados do programa com as\n",
    "mensagens adequadas."
   ]
  },
  {
   "cell_type": "code",
   "execution_count": 28,
   "metadata": {},
   "outputs": [
    {
     "name": "stdout",
     "output_type": "stream",
     "text": [
      "o peso total é 60.0kg, o excedente é de 10.0kg, portanto a multa é R$40.0.\n"
     ]
    }
   ],
   "source": [
    "peso = float(input('Digite o valor do peso total'))\n",
    "\n",
    "excesso = peso - 50\n",
    "\n",
    "\n",
    "multa = excesso * 4\n",
    "print(f'o peso total é {peso}kg, o excedente é de {excesso}kg, portanto a multa é R${multa}.')"
   ]
  },
  {
   "cell_type": "markdown",
   "metadata": {},
   "source": [
    "## Exercício 18 - Faça um Programa que pergunte quanto você ganha por hora e o número\n",
    "de horas trabalhadas no mês. Calcule e mostre o total do seu salário no referido mês,\n",
    "sabendo-se que são descontados 11% para o Imposto de Renda, 8% para o INSS e 5%\n",
    "para o sindicato, faça um programa que nos dê:\n",
    "a) salário bruto.\n",
    "b) quanto pagou ao INSS.\n",
    "c) quanto pagou ao sindicato.\n",
    "d) o salário líquido.\n",
    "e) calcule os descontos e o salário líquido, conforme a tabela abaixo:"
   ]
  },
  {
   "cell_type": "code",
   "execution_count": 36,
   "metadata": {},
   "outputs": [
    {
     "name": "stdout",
     "output_type": "stream",
     "text": [
      "+ Salario Bruto: R$300.0\n",
      " - IR (11%): R$ 33.0\n",
      "- INSS (8%): R$ 24.0\n",
      "sindicato (5%): R$ 15.0\n",
      "= Salário Liquido: R$ 228.0\n"
     ]
    }
   ],
   "source": [
    "valorHora = float(input('informe o quanto você recebe por hora'))\n",
    "horasTrabalhadas = int(input('Quantas horas você trabalhou nesse mês'))\n",
    "\n",
    "# Calculando o salario bruto\n",
    "salarioBruto = valorHora * horasTrabalhadas\n",
    "\n",
    "# Aliquotas de desconto\n",
    "per_ir = 0.11\n",
    "per_inss = 0.08\n",
    "per_sindicato = 0.05\n",
    "\n",
    " # Calcular o valor dos descontos\n",
    "valor_ir = salarioBruto * per_ir\n",
    "valor_inss = salarioBruto * per_inss\n",
    "valor_sindicato = salarioBruto * per_sindicato\n",
    "\n",
    "# Calcular o salario liquido\n",
    "\n",
    "salario_liquido = salarioBruto - valor_inss - valor_ir - valor_sindicato\n",
    "\n",
    "#exibir resultados\n",
    "\n",
    "print(f'+ Salario Bruto: R${salarioBruto}')\n",
    "print(f' - IR (11%): R$ {valor_ir}')\n",
    "print(f'- INSS (8%): R$ {valor_inss}')\n",
    "print(f'sindicato (5%): R$ {valor_sindicato}')\n",
    "print(f'= Salário Liquido: R$ {salario_liquido}')\n"
   ]
  },
  {
   "cell_type": "markdown",
   "metadata": {},
   "source": [
    "## Exercício 19 - Faça um programa para uma loja de tintas. O programa deverá pedir o\n",
    "tamanho em metros quadrados da área a ser pintada. Considere que a cobertura da\n",
    "tinta é de 1 litro para cada 3 metros quadrados e que a tinta é vendida em latas de 18\n",
    "litros, que custam R$ 80,00. Informe ao usuário a quantidades de latas de tinta a serem\n",
    "compradas e o preço total."
   ]
  },
  {
   "cell_type": "code",
   "execution_count": 45,
   "metadata": {},
   "outputs": [
    {
     "name": "stdout",
     "output_type": "stream",
     "text": [
      "Para pintar uma área de 100.0m²\n",
      "Serão necessárias 2, e o custo total será de 160\n"
     ]
    }
   ],
   "source": [
    "# importar a biblioteca math para ituilizar a função ceil\n",
    "import math\n",
    "altura = float(input('Informe a altura total'))\n",
    "largura = float(input('Informe a largura total'))\n",
    "\n",
    "area = altura * largura\n",
    "\n",
    "# podemos pintar 54 metros quadrados com a tinta de 1L\n",
    "\n",
    "# Calculando a quantidade de latas\n",
    "litrosLata = 18\n",
    "areaPintadaLata = litrosLata * 3\n",
    "\n",
    "## O ideal era aplicar uma estrutura condicional para verificar\n",
    "## se qtde de latas é menos do que 1, masss vai ficar assim\n",
    "\n",
    "qtdeLatas = math.ceil(area / areaPintadaLata)\n",
    "\n",
    "valorLata = 80\n",
    "custoTotal = round(qtdeLatas * valorLata,2)\n",
    "\n",
    "print(f'Para pintar uma área de {area}m²')\n",
    "print(f'Serão necessárias {qtdeLatas}, e o custo total será de {custoTotal}')\n",
    "\n"
   ]
  }
 ],
 "metadata": {
  "kernelspec": {
   "display_name": "Python 3",
   "language": "python",
   "name": "python3"
  },
  "language_info": {
   "codemirror_mode": {
    "name": "ipython",
    "version": 3
   },
   "file_extension": ".py",
   "mimetype": "text/x-python",
   "name": "python",
   "nbconvert_exporter": "python",
   "pygments_lexer": "ipython3",
   "version": "3.11.0"
  }
 },
 "nbformat": 4,
 "nbformat_minor": 2
}
