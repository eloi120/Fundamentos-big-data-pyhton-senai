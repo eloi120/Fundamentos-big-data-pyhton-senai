{
 "cells": [
  {
   "cell_type": "markdown",
   "metadata": {},
   "source": [
    "### Scikit learn - Datasets embutidos"
   ]
  },
  {
   "cell_type": "code",
   "execution_count": 3,
   "metadata": {},
   "outputs": [
    {
     "data": {
      "text/plain": [
       "2"
      ]
     },
     "execution_count": 3,
     "metadata": {},
     "output_type": "execute_result"
    }
   ],
   "source": [
    "### Carregar o dataset iris\n",
    "\n",
    "from sklearn.datasets import load_iris\n",
    "\n",
    "iris = load_iris(return_X_y=True)\n",
    "\n",
    "len(iris)"
   ]
  },
  {
   "cell_type": "markdown",
   "metadata": {},
   "source": [
    "### Separar os dados em treino e teste"
   ]
  },
  {
   "cell_type": "code",
   "execution_count": null,
   "metadata": {},
   "outputs": [],
   "source": [
    "## Importar a biblioteca para separar os dados\n",
    "\n",
    "from sklearn.model_selection import train_test_split\n",
    "\n",
    "## Separar os dados de x e y\n",
    "X, y = iris\n",
    "\n",
    "## Fatiar os dados em treino e teste\n",
    "X_train, X_test, y_train, y_test = train_test_split(X,y, test_size=0.3)"
   ]
  },
  {
   "cell_type": "code",
   "execution_count": 11,
   "metadata": {},
   "outputs": [
    {
     "name": "stdout",
     "output_type": "stream",
     "text": [
      "Dados de X para treinamento 105\n",
      "Dados de Y para treinamento 105\n",
      "Dados de X para teste 45\n",
      "Dados de Y para teste 45\n"
     ]
    }
   ],
   "source": [
    "# Tamanho dos dados de treinamento\n",
    "print('Dados de X para treinamento',len(X_train))\n",
    "print('Dados de Y para treinamento',len(y_train))\n",
    "\n",
    "# Tamanho dos dados (Amostras) para teste\n",
    "print('Dados de X para teste', len(X_test))\n",
    "print('Dados de Y para teste', len(y_test))"
   ]
  }
 ],
 "metadata": {
  "kernelspec": {
   "display_name": "Python 3",
   "language": "python",
   "name": "python3"
  },
  "language_info": {
   "codemirror_mode": {
    "name": "ipython",
    "version": 3
   },
   "file_extension": ".py",
   "mimetype": "text/x-python",
   "name": "python",
   "nbconvert_exporter": "python",
   "pygments_lexer": "ipython3",
   "version": "3.11.0"
  }
 },
 "nbformat": 4,
 "nbformat_minor": 2
}
