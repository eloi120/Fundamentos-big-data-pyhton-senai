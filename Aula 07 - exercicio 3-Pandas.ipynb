{
 "cells": [
  {
   "cell_type": "markdown",
   "metadata": {},
   "source": [
    "### Exercício 03 – Manipulando dados com Pandas\n",
    "a)Crie um programa em pandas para ler o arquivo em Excel vendas.xlsx e\n",
    "b)coloque em um dataframe.\n",
    "c)Visualize o cabeçalho dos dados;\n",
    "d)Visualize as últimas linhas;\n",
    "e)Escreva um programa para renomear o cabeçalho da tabela com os\n",
    "f)seguintes nomes:"
   ]
  },
  {
   "cell_type": "code",
   "execution_count": 1,
   "metadata": {},
   "outputs": [
    {
     "data": {
      "text/html": [
       "<div>\n",
       "<style scoped>\n",
       "    .dataframe tbody tr th:only-of-type {\n",
       "        vertical-align: middle;\n",
       "    }\n",
       "\n",
       "    .dataframe tbody tr th {\n",
       "        vertical-align: top;\n",
       "    }\n",
       "\n",
       "    .dataframe thead th {\n",
       "        text-align: right;\n",
       "    }\n",
       "</style>\n",
       "<table border=\"1\" class=\"dataframe\">\n",
       "  <thead>\n",
       "    <tr style=\"text-align: right;\">\n",
       "      <th></th>\n",
       "      <th>Coluna 1</th>\n",
       "      <th>Coluna 2</th>\n",
       "      <th>Coluna 3</th>\n",
       "      <th>Coluna 4</th>\n",
       "      <th>Coluna 5</th>\n",
       "      <th>Coluna 6</th>\n",
       "    </tr>\n",
       "  </thead>\n",
       "  <tbody>\n",
       "    <tr>\n",
       "      <th>0</th>\n",
       "      <td>2014-01-01</td>\n",
       "      <td>Bernardo de Sousa</td>\n",
       "      <td>Supervisor de Vendas Pl</td>\n",
       "      <td>ACME</td>\n",
       "      <td>AL</td>\n",
       "      <td>3276.20</td>\n",
       "    </tr>\n",
       "    <tr>\n",
       "      <th>1</th>\n",
       "      <td>2014-01-01</td>\n",
       "      <td>Bernardo de Sousa</td>\n",
       "      <td>Supervisor de Vendas Pl</td>\n",
       "      <td>ACME</td>\n",
       "      <td>AP</td>\n",
       "      <td>3005.86</td>\n",
       "    </tr>\n",
       "    <tr>\n",
       "      <th>2</th>\n",
       "      <td>2014-01-01</td>\n",
       "      <td>Bernardo de Sousa</td>\n",
       "      <td>Supervisor de Vendas Pl</td>\n",
       "      <td>ACME</td>\n",
       "      <td>MA</td>\n",
       "      <td>8568.54</td>\n",
       "    </tr>\n",
       "    <tr>\n",
       "      <th>3</th>\n",
       "      <td>2014-01-01</td>\n",
       "      <td>Bernardo de Sousa</td>\n",
       "      <td>Supervisor de Vendas Pl</td>\n",
       "      <td>ACME</td>\n",
       "      <td>MG</td>\n",
       "      <td>1344.27</td>\n",
       "    </tr>\n",
       "    <tr>\n",
       "      <th>4</th>\n",
       "      <td>2014-01-01</td>\n",
       "      <td>Bernardo de Sousa</td>\n",
       "      <td>Supervisor de Vendas Pl</td>\n",
       "      <td>ACME</td>\n",
       "      <td>MS</td>\n",
       "      <td>7585.04</td>\n",
       "    </tr>\n",
       "  </tbody>\n",
       "</table>\n",
       "</div>"
      ],
      "text/plain": [
       "    Coluna 1           Coluna 2                 Coluna 3 Coluna 4 Coluna 5  \\\n",
       "0 2014-01-01  Bernardo de Sousa  Supervisor de Vendas Pl     ACME       AL   \n",
       "1 2014-01-01  Bernardo de Sousa  Supervisor de Vendas Pl     ACME       AP   \n",
       "2 2014-01-01  Bernardo de Sousa  Supervisor de Vendas Pl     ACME       MA   \n",
       "3 2014-01-01  Bernardo de Sousa  Supervisor de Vendas Pl     ACME       MG   \n",
       "4 2014-01-01  Bernardo de Sousa  Supervisor de Vendas Pl     ACME       MS   \n",
       "\n",
       "   Coluna 6  \n",
       "0   3276.20  \n",
       "1   3005.86  \n",
       "2   8568.54  \n",
       "3   1344.27  \n",
       "4   7585.04  "
      ]
     },
     "execution_count": 1,
     "metadata": {},
     "output_type": "execute_result"
    }
   ],
   "source": [
    "# importando a bilioteca do pandas\n",
    "\n",
    "import pandas as pd\n",
    "\n",
    "# Mapear o caminho e o nome do documento\n",
    "caminho = '../gabriel-eloi-python/Arquivos/Vendas (5).xlsx'\n",
    "\n",
    "# Atribuir os dados a um dataframe\n",
    "df = pd.read_excel(caminho)\n",
    "\n",
    "# Visualizar o cabeçalho\n",
    "df.head()\n"
   ]
  },
  {
   "cell_type": "code",
   "execution_count": 2,
   "metadata": {},
   "outputs": [
    {
     "data": {
      "text/html": [
       "<div>\n",
       "<style scoped>\n",
       "    .dataframe tbody tr th:only-of-type {\n",
       "        vertical-align: middle;\n",
       "    }\n",
       "\n",
       "    .dataframe tbody tr th {\n",
       "        vertical-align: top;\n",
       "    }\n",
       "\n",
       "    .dataframe thead th {\n",
       "        text-align: right;\n",
       "    }\n",
       "</style>\n",
       "<table border=\"1\" class=\"dataframe\">\n",
       "  <thead>\n",
       "    <tr style=\"text-align: right;\">\n",
       "      <th></th>\n",
       "      <th>Coluna 1</th>\n",
       "      <th>Coluna 2</th>\n",
       "      <th>Coluna 3</th>\n",
       "      <th>Coluna 4</th>\n",
       "      <th>Coluna 5</th>\n",
       "      <th>Coluna 6</th>\n",
       "    </tr>\n",
       "  </thead>\n",
       "  <tbody>\n",
       "    <tr>\n",
       "      <th>130461</th>\n",
       "      <td>2016-12-31</td>\n",
       "      <td>Liz Azevedo Santos</td>\n",
       "      <td>Vendedor Pl.</td>\n",
       "      <td>Planet Express</td>\n",
       "      <td>PI</td>\n",
       "      <td>1829.39</td>\n",
       "    </tr>\n",
       "    <tr>\n",
       "      <th>130462</th>\n",
       "      <td>2016-12-31</td>\n",
       "      <td>Liz Azevedo Santos</td>\n",
       "      <td>Vendedor Pl.</td>\n",
       "      <td>Planet Express</td>\n",
       "      <td>PR</td>\n",
       "      <td>2378.48</td>\n",
       "    </tr>\n",
       "    <tr>\n",
       "      <th>130463</th>\n",
       "      <td>2016-12-31</td>\n",
       "      <td>Liz Azevedo Santos</td>\n",
       "      <td>Vendedor Pl.</td>\n",
       "      <td>Planet Express</td>\n",
       "      <td>RO</td>\n",
       "      <td>4488.47</td>\n",
       "    </tr>\n",
       "    <tr>\n",
       "      <th>130464</th>\n",
       "      <td>2016-12-31</td>\n",
       "      <td>Liz Azevedo Santos</td>\n",
       "      <td>Vendedor Pl.</td>\n",
       "      <td>Planet Express</td>\n",
       "      <td>RR</td>\n",
       "      <td>1543.66</td>\n",
       "    </tr>\n",
       "    <tr>\n",
       "      <th>130465</th>\n",
       "      <td>2016-12-31</td>\n",
       "      <td>Liz Azevedo Santos</td>\n",
       "      <td>Vendedor Pl.</td>\n",
       "      <td>Planet Express</td>\n",
       "      <td>SC</td>\n",
       "      <td>9820.71</td>\n",
       "    </tr>\n",
       "  </tbody>\n",
       "</table>\n",
       "</div>"
      ],
      "text/plain": [
       "         Coluna 1            Coluna 2      Coluna 3        Coluna 4 Coluna 5  \\\n",
       "130461 2016-12-31  Liz Azevedo Santos  Vendedor Pl.  Planet Express       PI   \n",
       "130462 2016-12-31  Liz Azevedo Santos  Vendedor Pl.  Planet Express       PR   \n",
       "130463 2016-12-31  Liz Azevedo Santos  Vendedor Pl.  Planet Express       RO   \n",
       "130464 2016-12-31  Liz Azevedo Santos  Vendedor Pl.  Planet Express       RR   \n",
       "130465 2016-12-31  Liz Azevedo Santos  Vendedor Pl.  Planet Express       SC   \n",
       "\n",
       "        Coluna 6  \n",
       "130461   1829.39  \n",
       "130462   2378.48  \n",
       "130463   4488.47  \n",
       "130464   1543.66  \n",
       "130465   9820.71  "
      ]
     },
     "execution_count": 2,
     "metadata": {},
     "output_type": "execute_result"
    }
   ],
   "source": [
    "# ultima linha\n",
    "df.tail()"
   ]
  },
  {
   "cell_type": "code",
   "execution_count": 3,
   "metadata": {},
   "outputs": [
    {
     "data": {
      "text/html": [
       "<div>\n",
       "<style scoped>\n",
       "    .dataframe tbody tr th:only-of-type {\n",
       "        vertical-align: middle;\n",
       "    }\n",
       "\n",
       "    .dataframe tbody tr th {\n",
       "        vertical-align: top;\n",
       "    }\n",
       "\n",
       "    .dataframe thead th {\n",
       "        text-align: right;\n",
       "    }\n",
       "</style>\n",
       "<table border=\"1\" class=\"dataframe\">\n",
       "  <thead>\n",
       "    <tr style=\"text-align: right;\">\n",
       "      <th></th>\n",
       "      <th>Data</th>\n",
       "      <th>Vendedor</th>\n",
       "      <th>Cargo</th>\n",
       "      <th>Cliente</th>\n",
       "      <th>UF</th>\n",
       "      <th>Vendas</th>\n",
       "    </tr>\n",
       "  </thead>\n",
       "  <tbody>\n",
       "    <tr>\n",
       "      <th>0</th>\n",
       "      <td>2014-01-01</td>\n",
       "      <td>Bernardo de Sousa</td>\n",
       "      <td>Supervisor de Vendas Pl</td>\n",
       "      <td>ACME</td>\n",
       "      <td>AL</td>\n",
       "      <td>3276.20</td>\n",
       "    </tr>\n",
       "    <tr>\n",
       "      <th>1</th>\n",
       "      <td>2014-01-01</td>\n",
       "      <td>Bernardo de Sousa</td>\n",
       "      <td>Supervisor de Vendas Pl</td>\n",
       "      <td>ACME</td>\n",
       "      <td>AP</td>\n",
       "      <td>3005.86</td>\n",
       "    </tr>\n",
       "    <tr>\n",
       "      <th>2</th>\n",
       "      <td>2014-01-01</td>\n",
       "      <td>Bernardo de Sousa</td>\n",
       "      <td>Supervisor de Vendas Pl</td>\n",
       "      <td>ACME</td>\n",
       "      <td>MA</td>\n",
       "      <td>8568.54</td>\n",
       "    </tr>\n",
       "    <tr>\n",
       "      <th>3</th>\n",
       "      <td>2014-01-01</td>\n",
       "      <td>Bernardo de Sousa</td>\n",
       "      <td>Supervisor de Vendas Pl</td>\n",
       "      <td>ACME</td>\n",
       "      <td>MG</td>\n",
       "      <td>1344.27</td>\n",
       "    </tr>\n",
       "    <tr>\n",
       "      <th>4</th>\n",
       "      <td>2014-01-01</td>\n",
       "      <td>Bernardo de Sousa</td>\n",
       "      <td>Supervisor de Vendas Pl</td>\n",
       "      <td>ACME</td>\n",
       "      <td>MS</td>\n",
       "      <td>7585.04</td>\n",
       "    </tr>\n",
       "  </tbody>\n",
       "</table>\n",
       "</div>"
      ],
      "text/plain": [
       "        Data           Vendedor                    Cargo Cliente  UF   Vendas\n",
       "0 2014-01-01  Bernardo de Sousa  Supervisor de Vendas Pl    ACME  AL  3276.20\n",
       "1 2014-01-01  Bernardo de Sousa  Supervisor de Vendas Pl    ACME  AP  3005.86\n",
       "2 2014-01-01  Bernardo de Sousa  Supervisor de Vendas Pl    ACME  MA  8568.54\n",
       "3 2014-01-01  Bernardo de Sousa  Supervisor de Vendas Pl    ACME  MG  1344.27\n",
       "4 2014-01-01  Bernardo de Sousa  Supervisor de Vendas Pl    ACME  MS  7585.04"
      ]
     },
     "execution_count": 3,
     "metadata": {},
     "output_type": "execute_result"
    }
   ],
   "source": [
    "df = df.rename(columns={\n",
    "    'Coluna 1':'Data',\n",
    "    'Coluna 2':'Vendedor',\n",
    "    'Coluna 3':'Cargo',\n",
    "    'Coluna 4':'Cliente',\n",
    "    'Coluna 5':'UF',\n",
    "    'Coluna 6':'Vendas'\n",
    "}\n",
    ")\n",
    "\n",
    "df.head()"
   ]
  },
  {
   "cell_type": "code",
   "execution_count": 4,
   "metadata": {},
   "outputs": [
    {
     "name": "stdout",
     "output_type": "stream",
     "text": [
      "<class 'pandas.core.frame.DataFrame'>\n",
      "RangeIndex: 130466 entries, 0 to 130465\n",
      "Data columns (total 6 columns):\n",
      " #   Column    Non-Null Count   Dtype         \n",
      "---  ------    --------------   -----         \n",
      " 0   Data      130466 non-null  datetime64[ns]\n",
      " 1   Vendedor  130466 non-null  object        \n",
      " 2   Cargo     130466 non-null  object        \n",
      " 3   Cliente   130466 non-null  object        \n",
      " 4   UF        130466 non-null  object        \n",
      " 5   Vendas    130466 non-null  float64       \n",
      "dtypes: datetime64[ns](1), float64(1), object(4)\n",
      "memory usage: 6.0+ MB\n"
     ]
    }
   ],
   "source": [
    "df.info()"
   ]
  },
  {
   "cell_type": "code",
   "execution_count": 5,
   "metadata": {},
   "outputs": [
    {
     "data": {
      "text/plain": [
       "718501609.25"
      ]
     },
     "execution_count": 5,
     "metadata": {},
     "output_type": "execute_result"
    }
   ],
   "source": [
    "# Calculo soma\n",
    "df['Vendas'].sum()"
   ]
  },
  {
   "cell_type": "code",
   "execution_count": 6,
   "metadata": {},
   "outputs": [
    {
     "data": {
      "text/plain": [
       "5507.194282418408"
      ]
     },
     "execution_count": 6,
     "metadata": {},
     "output_type": "execute_result"
    }
   ],
   "source": [
    "# Calculo media\n",
    "df['Vendas'].mean()"
   ]
  },
  {
   "cell_type": "code",
   "execution_count": 7,
   "metadata": {},
   "outputs": [
    {
     "data": {
      "text/plain": [
       "10000.0"
      ]
     },
     "execution_count": 7,
     "metadata": {},
     "output_type": "execute_result"
    }
   ],
   "source": [
    "# Calculo máximo\n",
    "df['Vendas'].max()"
   ]
  },
  {
   "cell_type": "code",
   "execution_count": 8,
   "metadata": {},
   "outputs": [
    {
     "data": {
      "text/plain": [
       "1000.01"
      ]
     },
     "execution_count": 8,
     "metadata": {},
     "output_type": "execute_result"
    }
   ],
   "source": [
    "#Calculo mínimo\n",
    "\n",
    "df['Vendas'].min()"
   ]
  },
  {
   "cell_type": "code",
   "execution_count": 9,
   "metadata": {},
   "outputs": [
    {
     "data": {
      "text/plain": [
       "130466"
      ]
     },
     "execution_count": 9,
     "metadata": {},
     "output_type": "execute_result"
    }
   ],
   "source": [
    "# Calculo de contagem de colunas\n",
    "df['Vendas'].count()"
   ]
  },
  {
   "cell_type": "markdown",
   "metadata": {},
   "source": [
    "#### Filtrando dados de uma forma mais fácil"
   ]
  },
  {
   "cell_type": "code",
   "execution_count": 18,
   "metadata": {},
   "outputs": [],
   "source": [
    "#1 Selecionar a coluna de interesse\n",
    "# para mostrar todos os cargos, devemos remover todos os cargos duplicados, para assim mostrar todos os cargos sem ter nenhum duplicado\n",
    "\n",
    "df_cargos = df['Cargo'].drop_duplicates()\n",
    "\n",
    "#2 Converter o df_cargos em lista\n",
    "\n",
    "cargos = df_cargos.to_list()\n",
    "cargos\n",
    "\n",
    "#3 Filtrar o dataframe utilizando a lista cargos\n",
    "\n",
    "for cargo in cargos:\n",
    "    df_final = df[df['Cargo'] == cargo] # filtrar de acordo com os cargos\n",
    "    caminho = '../gabriel-eloi-python/relatorios-exercicio-03/' # caminho da pasta\n",
    "    arquivo = cargo + '.xlsx' # Nome do arquivo\n",
    "    df_final.to_excel(caminho + arquivo) # Gerando um arquivo em Excel\n",
    "\n",
    "\n"
   ]
  },
  {
   "cell_type": "markdown",
   "metadata": {},
   "source": [
    "### Monte para as colunas Vendedor, Cliente, UF"
   ]
  },
  {
   "cell_type": "code",
   "execution_count": 25,
   "metadata": {},
   "outputs": [],
   "source": [
    "# removendo os duplicados\n",
    "df_vendedor = df['Vendedor'].drop_duplicates()\n",
    "\n",
    "# Transformando os dados em lista\n",
    "vendedores = df_vendedor.tolist()\n",
    "vendedores\n",
    "\n",
    "for vendedor in vendedores:\n",
    "    df_final = df[df['Vendedor'] == vendedor] # o Vendedor com letra maiscula é a busca na tabela de dados da coluna Vendedor, e o vendedor com letra minuscula é a variavel que esta percorrendo no for\n",
    "    caminho = './relatorios-exercicio-03/relatorios vendedores/'\n",
    "    arquivo = vendedor + '.xlsx'\n",
    "    df_final.to_excel(caminho + arquivo)"
   ]
  }
 ],
 "metadata": {
  "kernelspec": {
   "display_name": "Python 3",
   "language": "python",
   "name": "python3"
  },
  "language_info": {
   "codemirror_mode": {
    "name": "ipython",
    "version": 3
   },
   "file_extension": ".py",
   "mimetype": "text/x-python",
   "name": "python",
   "nbconvert_exporter": "python",
   "pygments_lexer": "ipython3",
   "version": "3.11.0"
  }
 },
 "nbformat": 4,
 "nbformat_minor": 2
}
