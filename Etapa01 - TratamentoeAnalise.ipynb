{
 "cells": [
  {
   "cell_type": "code",
   "execution_count": 1,
   "metadata": {},
   "outputs": [],
   "source": [
    "import pandas as pd   # CARREGAR E TRATAR OS ARQUIVOS\n",
    "import matplotlib.pyplot as plt  # GERAR VISUALIZAÇÕES GRÁFICAS\n",
    "import seaborn as sns # GERAR VISUALIZAÇÕES GRÁFICAS\n",
    "import os # GERENCIAR O SISTEMA OPERACIONAL\n"
   ]
  },
  {
   "cell_type": "markdown",
   "metadata": {},
   "source": [
    "### CARREGAR OS ARQUIVOS DE VENDA"
   ]
  },
  {
   "cell_type": "code",
   "execution_count": 2,
   "metadata": {},
   "outputs": [],
   "source": [
    "# CAMINHO DA PASTA COM OS DOCUMENTOS\n",
    "caminhoPasta = './arquivos/vendas/'\n",
    "\n",
    "# CRIAR UMA LISTA VAZIA PARA SALVAR OS CAMINHOS\n",
    "diretorios = []\n",
    "\n",
    "# LAÇO DE REPETIÇÃO É USADO PARA LOCALIZAR OS ARQUIVOS DO DIRETÓRIO\n",
    "\n",
    "for file in os.listdir(caminhoPasta): # os.listdir serve para juntar todos os arquivos na pasta\n",
    "    diretorios.append(caminhoPasta + file)\n",
    "\n",
    "diretorios\n",
    "\n",
    "# CRIAR UM DATAFRAME VAZIO\n",
    "\n",
    "df_final = pd.DataFrame()\n",
    "\n",
    "# ABRIR OS DOCUMENTOS E AGRUPAR EM UM ÚNICO DATAFRAME\n",
    "for path in diretorios:\n",
    "    df = pd.read_excel(path)\n",
    "    df_final = pd.concat([df_final,df]) # ele pega o df_final que é vazio e passa o df que esta sendo feito as leituras e passa para o df_final e concatena todos os arquivos em apenas um só\n",
    "\n",
    "\n",
    "# SALVAR O DATAFRAME COMO CSV NA SUA PASTA\n",
    "df_final.to_csv('./arquivos/ArquivoCombinado.csv')\n",
    "\n",
    "\n"
   ]
  },
  {
   "cell_type": "code",
   "execution_count": 3,
   "metadata": {},
   "outputs": [],
   "source": [
    "# CARREGANDO ARQUIVO BASE META NEW, E DIMENSÕES\n",
    "\n",
    "dfmetas = pd.read_excel('./arquivos/base-meta-new.xlsx')\n",
    "dfClientes = pd.read_excel('./arquivos/Dimensões.xlsx',sheet_name='Cliente')\n",
    "dfProduto = pd.read_excel('./arquivos/Dimensões.xlsx',sheet_name = 'Produto')\n",
    "dfVendedores = pd.read_excel('./arquivos/Dimensões.xlsx',sheet_name = 'Vendedor')\n",
    "dfGrupoProduto = pd.read_excel('./arquivos/Dimensões.xlsx',sheet_name = 'GrupoProduto')\n",
    "dfDatas = pd.read_excel('./arquivos/Dimensões.xlsx',sheet_name = 'Data')\n",
    "\n",
    "# VISUALIZAR O CABEÇALHO DO DATAFRAME METAS\n",
    "dfmetas = dfmetas.iloc[3:,1:].reindex() # no iloc [linha, coluna]\n",
    "\n",
    " # RESETAR O INDICE DO DATAFRAME\n",
    "dfmetas.reset_index(0,# inicio do indice\n",
    "                    drop=True, # REMOVE A COLUNA(INDICE) JÁ EXISTENTE\n",
    "                    inplace=True # APLICA AS ALTERAÇÕES NO OBJETO\n",
    "                    )\n",
    "\n",
    "dfmetas.columns = ['cdVendedor','data','meta']"
   ]
  },
  {
   "cell_type": "code",
   "execution_count": 4,
   "metadata": {},
   "outputs": [
    {
     "data": {
      "text/html": [
       "<div>\n",
       "<style scoped>\n",
       "    .dataframe tbody tr th:only-of-type {\n",
       "        vertical-align: middle;\n",
       "    }\n",
       "\n",
       "    .dataframe tbody tr th {\n",
       "        vertical-align: top;\n",
       "    }\n",
       "\n",
       "    .dataframe thead th {\n",
       "        text-align: right;\n",
       "    }\n",
       "</style>\n",
       "<table border=\"1\" class=\"dataframe\">\n",
       "  <thead>\n",
       "    <tr style=\"text-align: right;\">\n",
       "      <th></th>\n",
       "      <th>cdCliente</th>\n",
       "      <th>Razão Social</th>\n",
       "      <th>Status</th>\n",
       "      <th>Categoria</th>\n",
       "      <th>Cidade</th>\n",
       "      <th>UF</th>\n",
       "    </tr>\n",
       "  </thead>\n",
       "  <tbody>\n",
       "    <tr>\n",
       "      <th>0</th>\n",
       "      <td>1339104</td>\n",
       "      <td>Vinicius e Filipe Cantina ME</td>\n",
       "      <td>A</td>\n",
       "      <td>Cantinas</td>\n",
       "      <td>Curitiba</td>\n",
       "      <td>PR</td>\n",
       "    </tr>\n",
       "  </tbody>\n",
       "</table>\n",
       "</div>"
      ],
      "text/plain": [
       "   cdCliente                  Razão Social Status Categoria    Cidade  UF\n",
       "0    1339104  Vinicius e Filipe Cantina ME      A  Cantinas  Curitiba  PR"
      ]
     },
     "execution_count": 4,
     "metadata": {},
     "output_type": "execute_result"
    }
   ],
   "source": [
    "dfClientes.head(1)"
   ]
  },
  {
   "cell_type": "code",
   "execution_count": 5,
   "metadata": {},
   "outputs": [],
   "source": [
    "dfClientes.columns = ['cdvendedor','razão social','status','categoria','cidade','uf']\n",
    "\n",
    "dfProduto.columns = ['cdvendedor','descrição','cdgrupo']\n",
    "\n",
    "dfVendedores.columns = ['cdvendedor','vendedor','cdsupervisor','supervisor','cdgerente','gerente','equipe']\n",
    "\n",
    "dfGrupoProduto.columns = ['cdgrupo','grupo','linha']\n",
    "\n",
    "dfDatas.columns = ['data','ano','mes','mesnum','dia']"
   ]
  },
  {
   "cell_type": "code",
   "execution_count": 6,
   "metadata": {},
   "outputs": [
    {
     "name": "stdout",
     "output_type": "stream",
     "text": [
      "<class 'pandas.core.frame.DataFrame'>\n",
      "RangeIndex: 792 entries, 0 to 791\n",
      "Data columns (total 3 columns):\n",
      " #   Column      Non-Null Count  Dtype \n",
      "---  ------      --------------  ----- \n",
      " 0   cdVendedor  792 non-null    object\n",
      " 1   data        792 non-null    object\n",
      " 2   meta        792 non-null    object\n",
      "dtypes: object(3)\n",
      "memory usage: 18.7+ KB\n"
     ]
    }
   ],
   "source": [
    "# verificação dos tipos de dados\n",
    "\n",
    "dfmetas.info()\n",
    "\n"
   ]
  },
  {
   "cell_type": "code",
   "execution_count": 7,
   "metadata": {},
   "outputs": [
    {
     "name": "stdout",
     "output_type": "stream",
     "text": [
      "<class 'pandas.core.frame.DataFrame'>\n",
      "RangeIndex: 1411 entries, 0 to 1410\n",
      "Data columns (total 6 columns):\n",
      " #   Column        Non-Null Count  Dtype \n",
      "---  ------        --------------  ----- \n",
      " 0   cdvendedor    1411 non-null   int64 \n",
      " 1   razão social  1411 non-null   object\n",
      " 2   status        1411 non-null   object\n",
      " 3   categoria     1411 non-null   object\n",
      " 4   cidade        1411 non-null   object\n",
      " 5   uf            1411 non-null   object\n",
      "dtypes: int64(1), object(5)\n",
      "memory usage: 66.3+ KB\n"
     ]
    }
   ],
   "source": [
    "dfClientes.info()"
   ]
  },
  {
   "cell_type": "code",
   "execution_count": 8,
   "metadata": {},
   "outputs": [
    {
     "name": "stdout",
     "output_type": "stream",
     "text": [
      "<class 'pandas.core.frame.DataFrame'>\n",
      "RangeIndex: 2736 entries, 0 to 2735\n",
      "Data columns (total 3 columns):\n",
      " #   Column      Non-Null Count  Dtype \n",
      "---  ------      --------------  ----- \n",
      " 0   cdvendedor  2736 non-null   int64 \n",
      " 1   descrição   2736 non-null   object\n",
      " 2   cdgrupo     2736 non-null   int64 \n",
      "dtypes: int64(2), object(1)\n",
      "memory usage: 64.2+ KB\n"
     ]
    }
   ],
   "source": [
    "dfProduto.info()"
   ]
  },
  {
   "cell_type": "code",
   "execution_count": 9,
   "metadata": {},
   "outputs": [
    {
     "name": "stdout",
     "output_type": "stream",
     "text": [
      "<class 'pandas.core.frame.DataFrame'>\n",
      "RangeIndex: 12 entries, 0 to 11\n",
      "Data columns (total 7 columns):\n",
      " #   Column        Non-Null Count  Dtype \n",
      "---  ------        --------------  ----- \n",
      " 0   cdvendedor    12 non-null     int64 \n",
      " 1   vendedor      12 non-null     object\n",
      " 2   cdsupervisor  12 non-null     int64 \n",
      " 3   supervisor    12 non-null     object\n",
      " 4   cdgerente     12 non-null     int64 \n",
      " 5   gerente       12 non-null     object\n",
      " 6   equipe        12 non-null     object\n",
      "dtypes: int64(3), object(4)\n",
      "memory usage: 800.0+ bytes\n"
     ]
    }
   ],
   "source": [
    "dfVendedores.info()"
   ]
  },
  {
   "cell_type": "code",
   "execution_count": 10,
   "metadata": {},
   "outputs": [
    {
     "name": "stdout",
     "output_type": "stream",
     "text": [
      "<class 'pandas.core.frame.DataFrame'>\n",
      "RangeIndex: 36 entries, 0 to 35\n",
      "Data columns (total 3 columns):\n",
      " #   Column   Non-Null Count  Dtype \n",
      "---  ------   --------------  ----- \n",
      " 0   cdgrupo  36 non-null     int64 \n",
      " 1   grupo    36 non-null     object\n",
      " 2   linha    36 non-null     object\n",
      "dtypes: int64(1), object(2)\n",
      "memory usage: 992.0+ bytes\n"
     ]
    }
   ],
   "source": [
    "dfGrupoProduto.info()"
   ]
  },
  {
   "cell_type": "code",
   "execution_count": 11,
   "metadata": {},
   "outputs": [
    {
     "name": "stdout",
     "output_type": "stream",
     "text": [
      "<class 'pandas.core.frame.DataFrame'>\n",
      "RangeIndex: 1095 entries, 0 to 1094\n",
      "Data columns (total 5 columns):\n",
      " #   Column  Non-Null Count  Dtype         \n",
      "---  ------  --------------  -----         \n",
      " 0   data    1095 non-null   datetime64[ns]\n",
      " 1   ano     1095 non-null   int64         \n",
      " 2   mes     1095 non-null   object        \n",
      " 3   mesnum  1095 non-null   int64         \n",
      " 4   dia     1095 non-null   int64         \n",
      "dtypes: datetime64[ns](1), int64(3), object(1)\n",
      "memory usage: 42.9+ KB\n"
     ]
    }
   ],
   "source": [
    "dfDatas.info()"
   ]
  },
  {
   "cell_type": "code",
   "execution_count": 12,
   "metadata": {},
   "outputs": [
    {
     "data": {
      "text/plain": [
       "cdVendedor    0\n",
       "data          0\n",
       "meta          0\n",
       "dtype: int64"
      ]
     },
     "execution_count": 12,
     "metadata": {},
     "output_type": "execute_result"
    }
   ],
   "source": [
    "dfmetas.isnull().sum()"
   ]
  },
  {
   "cell_type": "code",
   "execution_count": 13,
   "metadata": {},
   "outputs": [
    {
     "data": {
      "text/plain": [
       "cdvendedor      0\n",
       "razão social    0\n",
       "status          0\n",
       "categoria       0\n",
       "cidade          0\n",
       "uf              0\n",
       "dtype: int64"
      ]
     },
     "execution_count": 13,
     "metadata": {},
     "output_type": "execute_result"
    }
   ],
   "source": [
    "dfClientes.isnull().sum()"
   ]
  },
  {
   "cell_type": "code",
   "execution_count": 14,
   "metadata": {},
   "outputs": [
    {
     "data": {
      "text/plain": [
       "cdvendedor    0\n",
       "descrição     0\n",
       "cdgrupo       0\n",
       "dtype: int64"
      ]
     },
     "execution_count": 14,
     "metadata": {},
     "output_type": "execute_result"
    }
   ],
   "source": [
    "dfProduto.isnull().sum()"
   ]
  },
  {
   "cell_type": "code",
   "execution_count": 15,
   "metadata": {},
   "outputs": [
    {
     "data": {
      "text/plain": [
       "cdvendedor      0\n",
       "vendedor        0\n",
       "cdsupervisor    0\n",
       "supervisor      0\n",
       "cdgerente       0\n",
       "gerente         0\n",
       "equipe          0\n",
       "dtype: int64"
      ]
     },
     "execution_count": 15,
     "metadata": {},
     "output_type": "execute_result"
    }
   ],
   "source": [
    "dfVendedores.isnull().sum()"
   ]
  },
  {
   "cell_type": "code",
   "execution_count": 16,
   "metadata": {},
   "outputs": [
    {
     "data": {
      "text/plain": [
       "cdgrupo    0\n",
       "grupo      0\n",
       "linha      0\n",
       "dtype: int64"
      ]
     },
     "execution_count": 16,
     "metadata": {},
     "output_type": "execute_result"
    }
   ],
   "source": [
    "dfGrupoProduto.isnull().sum()"
   ]
  },
  {
   "cell_type": "code",
   "execution_count": 17,
   "metadata": {},
   "outputs": [
    {
     "data": {
      "text/plain": [
       "data      0\n",
       "ano       0\n",
       "mes       0\n",
       "mesnum    0\n",
       "dia       0\n",
       "dtype: int64"
      ]
     },
     "execution_count": 17,
     "metadata": {},
     "output_type": "execute_result"
    }
   ],
   "source": [
    "dfDatas.isnull().sum()"
   ]
  },
  {
   "cell_type": "code",
   "execution_count": 18,
   "metadata": {},
   "outputs": [
    {
     "data": {
      "text/html": [
       "<div>\n",
       "<style scoped>\n",
       "    .dataframe tbody tr th:only-of-type {\n",
       "        vertical-align: middle;\n",
       "    }\n",
       "\n",
       "    .dataframe tbody tr th {\n",
       "        vertical-align: top;\n",
       "    }\n",
       "\n",
       "    .dataframe thead th {\n",
       "        text-align: right;\n",
       "    }\n",
       "</style>\n",
       "<table border=\"1\" class=\"dataframe\">\n",
       "  <thead>\n",
       "    <tr style=\"text-align: right;\">\n",
       "      <th></th>\n",
       "      <th>data</th>\n",
       "      <th>ano</th>\n",
       "      <th>mesnum</th>\n",
       "      <th>dia</th>\n",
       "    </tr>\n",
       "  </thead>\n",
       "  <tbody>\n",
       "    <tr>\n",
       "      <th>count</th>\n",
       "      <td>1095</td>\n",
       "      <td>1095.00000</td>\n",
       "      <td>1095.000000</td>\n",
       "      <td>1095.000000</td>\n",
       "    </tr>\n",
       "    <tr>\n",
       "      <th>mean</th>\n",
       "      <td>2018-07-02 00:00:00</td>\n",
       "      <td>2018.00000</td>\n",
       "      <td>6.526027</td>\n",
       "      <td>15.720548</td>\n",
       "    </tr>\n",
       "    <tr>\n",
       "      <th>min</th>\n",
       "      <td>2017-01-01 00:00:00</td>\n",
       "      <td>2017.00000</td>\n",
       "      <td>1.000000</td>\n",
       "      <td>1.000000</td>\n",
       "    </tr>\n",
       "    <tr>\n",
       "      <th>25%</th>\n",
       "      <td>2017-10-01 12:00:00</td>\n",
       "      <td>2017.00000</td>\n",
       "      <td>4.000000</td>\n",
       "      <td>8.000000</td>\n",
       "    </tr>\n",
       "    <tr>\n",
       "      <th>50%</th>\n",
       "      <td>2018-07-02 00:00:00</td>\n",
       "      <td>2018.00000</td>\n",
       "      <td>7.000000</td>\n",
       "      <td>16.000000</td>\n",
       "    </tr>\n",
       "    <tr>\n",
       "      <th>75%</th>\n",
       "      <td>2019-04-01 12:00:00</td>\n",
       "      <td>2019.00000</td>\n",
       "      <td>10.000000</td>\n",
       "      <td>23.000000</td>\n",
       "    </tr>\n",
       "    <tr>\n",
       "      <th>max</th>\n",
       "      <td>2019-12-31 00:00:00</td>\n",
       "      <td>2019.00000</td>\n",
       "      <td>12.000000</td>\n",
       "      <td>31.000000</td>\n",
       "    </tr>\n",
       "    <tr>\n",
       "      <th>std</th>\n",
       "      <td>NaN</td>\n",
       "      <td>0.81687</td>\n",
       "      <td>3.449427</td>\n",
       "      <td>8.800266</td>\n",
       "    </tr>\n",
       "  </tbody>\n",
       "</table>\n",
       "</div>"
      ],
      "text/plain": [
       "                      data         ano       mesnum          dia\n",
       "count                 1095  1095.00000  1095.000000  1095.000000\n",
       "mean   2018-07-02 00:00:00  2018.00000     6.526027    15.720548\n",
       "min    2017-01-01 00:00:00  2017.00000     1.000000     1.000000\n",
       "25%    2017-10-01 12:00:00  2017.00000     4.000000     8.000000\n",
       "50%    2018-07-02 00:00:00  2018.00000     7.000000    16.000000\n",
       "75%    2019-04-01 12:00:00  2019.00000    10.000000    23.000000\n",
       "max    2019-12-31 00:00:00  2019.00000    12.000000    31.000000\n",
       "std                    NaN     0.81687     3.449427     8.800266"
      ]
     },
     "execution_count": 18,
     "metadata": {},
     "output_type": "execute_result"
    }
   ],
   "source": [
    "dfDatas.describe()"
   ]
  },
  {
   "cell_type": "markdown",
   "metadata": {},
   "source": [
    "### ANÁLISES EXPLORATÓRIAS\n",
    "\n",
    "Valor total vendido e Valor total da meta por ano?"
   ]
  },
  {
   "cell_type": "code",
   "execution_count": null,
   "metadata": {},
   "outputs": [],
   "source": [
    "# ADICIONAR A COLUNA VALOR TOTAL AO DATAFRMAE\n",
    "df_final['valorTotal'] = df_final['QtdItens'] * df_final['ValorUnitario']\n",
    "\n",
    "df_final.head()\n",
    "\n",
    "dfDatas"
   ]
  },
  {
   "cell_type": "code",
   "execution_count": 28,
   "metadata": {},
   "outputs": [
    {
     "data": {
      "text/html": [
       "<div>\n",
       "<style scoped>\n",
       "    .dataframe tbody tr th:only-of-type {\n",
       "        vertical-align: middle;\n",
       "    }\n",
       "\n",
       "    .dataframe tbody tr th {\n",
       "        vertical-align: top;\n",
       "    }\n",
       "\n",
       "    .dataframe thead th {\n",
       "        text-align: right;\n",
       "    }\n",
       "</style>\n",
       "<table border=\"1\" class=\"dataframe\">\n",
       "  <thead>\n",
       "    <tr style=\"text-align: right;\">\n",
       "      <th></th>\n",
       "      <th>DataEmissao</th>\n",
       "      <th>DataVencimento</th>\n",
       "      <th>NFe</th>\n",
       "      <th>cdCliente</th>\n",
       "      <th>cdVendedor</th>\n",
       "      <th>cdProduto</th>\n",
       "      <th>QtdItens</th>\n",
       "      <th>ValorUnitario</th>\n",
       "      <th>Peso Líquido</th>\n",
       "      <th>valorTotal</th>\n",
       "      <th>data</th>\n",
       "      <th>ano</th>\n",
       "      <th>mes</th>\n",
       "      <th>mesnum</th>\n",
       "      <th>dia</th>\n",
       "    </tr>\n",
       "  </thead>\n",
       "  <tbody>\n",
       "    <tr>\n",
       "      <th>0</th>\n",
       "      <td>2017-01-12</td>\n",
       "      <td>2017-02-22</td>\n",
       "      <td>1492762</td>\n",
       "      <td>3140218</td>\n",
       "      <td>265</td>\n",
       "      <td>1073</td>\n",
       "      <td>6</td>\n",
       "      <td>8.83</td>\n",
       "      <td>0.60</td>\n",
       "      <td>52.98</td>\n",
       "      <td>2017-01-12</td>\n",
       "      <td>2017</td>\n",
       "      <td>Janeiro</td>\n",
       "      <td>1</td>\n",
       "      <td>12</td>\n",
       "    </tr>\n",
       "    <tr>\n",
       "      <th>1</th>\n",
       "      <td>2017-01-12</td>\n",
       "      <td>2017-02-22</td>\n",
       "      <td>1492762</td>\n",
       "      <td>3140218</td>\n",
       "      <td>265</td>\n",
       "      <td>1420</td>\n",
       "      <td>6</td>\n",
       "      <td>4.44</td>\n",
       "      <td>5.40</td>\n",
       "      <td>26.64</td>\n",
       "      <td>2017-01-12</td>\n",
       "      <td>2017</td>\n",
       "      <td>Janeiro</td>\n",
       "      <td>1</td>\n",
       "      <td>12</td>\n",
       "    </tr>\n",
       "    <tr>\n",
       "      <th>2</th>\n",
       "      <td>2017-01-12</td>\n",
       "      <td>2017-02-22</td>\n",
       "      <td>1492762</td>\n",
       "      <td>3140218</td>\n",
       "      <td>265</td>\n",
       "      <td>264</td>\n",
       "      <td>10</td>\n",
       "      <td>0.96</td>\n",
       "      <td>1.92</td>\n",
       "      <td>9.60</td>\n",
       "      <td>2017-01-12</td>\n",
       "      <td>2017</td>\n",
       "      <td>Janeiro</td>\n",
       "      <td>1</td>\n",
       "      <td>12</td>\n",
       "    </tr>\n",
       "    <tr>\n",
       "      <th>3</th>\n",
       "      <td>2017-01-13</td>\n",
       "      <td>2017-01-29</td>\n",
       "      <td>1492719</td>\n",
       "      <td>2983332</td>\n",
       "      <td>265</td>\n",
       "      <td>1154</td>\n",
       "      <td>6</td>\n",
       "      <td>2.92</td>\n",
       "      <td>1.26</td>\n",
       "      <td>17.52</td>\n",
       "      <td>2017-01-13</td>\n",
       "      <td>2017</td>\n",
       "      <td>Janeiro</td>\n",
       "      <td>1</td>\n",
       "      <td>13</td>\n",
       "    </tr>\n",
       "    <tr>\n",
       "      <th>4</th>\n",
       "      <td>2017-01-13</td>\n",
       "      <td>2017-01-29</td>\n",
       "      <td>1492719</td>\n",
       "      <td>2983332</td>\n",
       "      <td>265</td>\n",
       "      <td>1527</td>\n",
       "      <td>6</td>\n",
       "      <td>2.81</td>\n",
       "      <td>1.40</td>\n",
       "      <td>16.86</td>\n",
       "      <td>2017-01-13</td>\n",
       "      <td>2017</td>\n",
       "      <td>Janeiro</td>\n",
       "      <td>1</td>\n",
       "      <td>13</td>\n",
       "    </tr>\n",
       "    <tr>\n",
       "      <th>...</th>\n",
       "      <td>...</td>\n",
       "      <td>...</td>\n",
       "      <td>...</td>\n",
       "      <td>...</td>\n",
       "      <td>...</td>\n",
       "      <td>...</td>\n",
       "      <td>...</td>\n",
       "      <td>...</td>\n",
       "      <td>...</td>\n",
       "      <td>...</td>\n",
       "      <td>...</td>\n",
       "      <td>...</td>\n",
       "      <td>...</td>\n",
       "      <td>...</td>\n",
       "      <td>...</td>\n",
       "    </tr>\n",
       "    <tr>\n",
       "      <th>260091</th>\n",
       "      <td>2019-03-12</td>\n",
       "      <td>2019-04-14</td>\n",
       "      <td>2173547</td>\n",
       "      <td>673190</td>\n",
       "      <td>265</td>\n",
       "      <td>202</td>\n",
       "      <td>24</td>\n",
       "      <td>1.62</td>\n",
       "      <td>1.50</td>\n",
       "      <td>38.88</td>\n",
       "      <td>2019-03-12</td>\n",
       "      <td>2019</td>\n",
       "      <td>Março</td>\n",
       "      <td>3</td>\n",
       "      <td>12</td>\n",
       "    </tr>\n",
       "    <tr>\n",
       "      <th>260092</th>\n",
       "      <td>2019-03-12</td>\n",
       "      <td>2019-04-14</td>\n",
       "      <td>2173547</td>\n",
       "      <td>673190</td>\n",
       "      <td>265</td>\n",
       "      <td>1154</td>\n",
       "      <td>12</td>\n",
       "      <td>3.25</td>\n",
       "      <td>1.75</td>\n",
       "      <td>39.00</td>\n",
       "      <td>2019-03-12</td>\n",
       "      <td>2019</td>\n",
       "      <td>Março</td>\n",
       "      <td>3</td>\n",
       "      <td>12</td>\n",
       "    </tr>\n",
       "    <tr>\n",
       "      <th>260093</th>\n",
       "      <td>2019-03-12</td>\n",
       "      <td>2019-04-14</td>\n",
       "      <td>2173547</td>\n",
       "      <td>673190</td>\n",
       "      <td>265</td>\n",
       "      <td>668</td>\n",
       "      <td>12</td>\n",
       "      <td>3.26</td>\n",
       "      <td>1.00</td>\n",
       "      <td>39.12</td>\n",
       "      <td>2019-03-12</td>\n",
       "      <td>2019</td>\n",
       "      <td>Março</td>\n",
       "      <td>3</td>\n",
       "      <td>12</td>\n",
       "    </tr>\n",
       "    <tr>\n",
       "      <th>260094</th>\n",
       "      <td>2019-03-12</td>\n",
       "      <td>2019-04-14</td>\n",
       "      <td>2173547</td>\n",
       "      <td>673190</td>\n",
       "      <td>265</td>\n",
       "      <td>1527</td>\n",
       "      <td>12</td>\n",
       "      <td>3.14</td>\n",
       "      <td>1.00</td>\n",
       "      <td>37.68</td>\n",
       "      <td>2019-03-12</td>\n",
       "      <td>2019</td>\n",
       "      <td>Março</td>\n",
       "      <td>3</td>\n",
       "      <td>12</td>\n",
       "    </tr>\n",
       "    <tr>\n",
       "      <th>260095</th>\n",
       "      <td>2019-03-13</td>\n",
       "      <td>2019-04-05</td>\n",
       "      <td>2172961</td>\n",
       "      <td>3771379</td>\n",
       "      <td>215</td>\n",
       "      <td>257</td>\n",
       "      <td>6</td>\n",
       "      <td>4.42</td>\n",
       "      <td>1.20</td>\n",
       "      <td>26.52</td>\n",
       "      <td>2019-03-13</td>\n",
       "      <td>2019</td>\n",
       "      <td>Março</td>\n",
       "      <td>3</td>\n",
       "      <td>13</td>\n",
       "    </tr>\n",
       "  </tbody>\n",
       "</table>\n",
       "<p>260096 rows × 15 columns</p>\n",
       "</div>"
      ],
      "text/plain": [
       "       DataEmissao DataVencimento      NFe  cdCliente  cdVendedor  cdProduto  \\\n",
       "0       2017-01-12     2017-02-22  1492762    3140218         265       1073   \n",
       "1       2017-01-12     2017-02-22  1492762    3140218         265       1420   \n",
       "2       2017-01-12     2017-02-22  1492762    3140218         265        264   \n",
       "3       2017-01-13     2017-01-29  1492719    2983332         265       1154   \n",
       "4       2017-01-13     2017-01-29  1492719    2983332         265       1527   \n",
       "...            ...            ...      ...        ...         ...        ...   \n",
       "260091  2019-03-12     2019-04-14  2173547     673190         265        202   \n",
       "260092  2019-03-12     2019-04-14  2173547     673190         265       1154   \n",
       "260093  2019-03-12     2019-04-14  2173547     673190         265        668   \n",
       "260094  2019-03-12     2019-04-14  2173547     673190         265       1527   \n",
       "260095  2019-03-13     2019-04-05  2172961    3771379         215        257   \n",
       "\n",
       "        QtdItens  ValorUnitario  Peso Líquido  valorTotal       data   ano  \\\n",
       "0              6           8.83          0.60       52.98 2017-01-12  2017   \n",
       "1              6           4.44          5.40       26.64 2017-01-12  2017   \n",
       "2             10           0.96          1.92        9.60 2017-01-12  2017   \n",
       "3              6           2.92          1.26       17.52 2017-01-13  2017   \n",
       "4              6           2.81          1.40       16.86 2017-01-13  2017   \n",
       "...          ...            ...           ...         ...        ...   ...   \n",
       "260091        24           1.62          1.50       38.88 2019-03-12  2019   \n",
       "260092        12           3.25          1.75       39.00 2019-03-12  2019   \n",
       "260093        12           3.26          1.00       39.12 2019-03-12  2019   \n",
       "260094        12           3.14          1.00       37.68 2019-03-12  2019   \n",
       "260095         6           4.42          1.20       26.52 2019-03-13  2019   \n",
       "\n",
       "            mes  mesnum  dia  \n",
       "0       Janeiro       1   12  \n",
       "1       Janeiro       1   12  \n",
       "2       Janeiro       1   12  \n",
       "3       Janeiro       1   13  \n",
       "4       Janeiro       1   13  \n",
       "...         ...     ...  ...  \n",
       "260091    Março       3   12  \n",
       "260092    Março       3   12  \n",
       "260093    Março       3   12  \n",
       "260094    Março       3   12  \n",
       "260095    Março       3   13  \n",
       "\n",
       "[260096 rows x 15 columns]"
      ]
     },
     "execution_count": 28,
     "metadata": {},
     "output_type": "execute_result"
    }
   ],
   "source": [
    "df_final[['QtdItens','valorTotal']].sum()\n",
    "\n",
    "df_result = pd.merge(df_final,\n",
    "         dfDatas,\n",
    "         left_on='DataEmissao', # A TABELA DA ESQUERDA É O DF_FINAL/PRINCIPAL\n",
    "         right_on='data'  # A TABELA DA DIREITA É A QUAL QUEREMOS TRAZER AS INFORMAÇÕES PARA A DF_FINAL QUE SERÁ A TABELA DFDATAS\n",
    "         )"
   ]
  }
 ],
 "metadata": {
  "kernelspec": {
   "display_name": "Python 3",
   "language": "python",
   "name": "python3"
  },
  "language_info": {
   "codemirror_mode": {
    "name": "ipython",
    "version": 3
   },
   "file_extension": ".py",
   "mimetype": "text/x-python",
   "name": "python",
   "nbconvert_exporter": "python",
   "pygments_lexer": "ipython3",
   "version": "3.11.0"
  }
 },
 "nbformat": 4,
 "nbformat_minor": 2
}
