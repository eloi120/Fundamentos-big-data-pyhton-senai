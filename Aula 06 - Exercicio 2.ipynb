{
 "cells": [
  {
   "cell_type": "markdown",
   "metadata": {},
   "source": [
    " Exercício 02 – Manipulando dados com Pandas"
   ]
  },
  {
   "cell_type": "code",
   "execution_count": 8,
   "metadata": {},
   "outputs": [],
   "source": [
    "## a) Crie um programa em pandas para ler o arquivo em Excel imobiliária.xlsx\n",
    "## b) e coloque em um dataframe.\n",
    "\n",
    "import pandas as pd\n",
    "\n",
    "caminho = \"C:\\\\Users\\\\FIC\\\\Documents\\\\gabriel-eloi-python\\\\Arquivos\\\\Imobiliária.xlsx\"\n",
    "\n",
    "df = pd.read_excel(caminho)"
   ]
  },
  {
   "cell_type": "code",
   "execution_count": 9,
   "metadata": {},
   "outputs": [
    {
     "data": {
      "text/html": [
       "<div>\n",
       "<style scoped>\n",
       "    .dataframe tbody tr th:only-of-type {\n",
       "        vertical-align: middle;\n",
       "    }\n",
       "\n",
       "    .dataframe tbody tr th {\n",
       "        vertical-align: top;\n",
       "    }\n",
       "\n",
       "    .dataframe thead th {\n",
       "        text-align: right;\n",
       "    }\n",
       "</style>\n",
       "<table border=\"1\" class=\"dataframe\">\n",
       "  <thead>\n",
       "    <tr style=\"text-align: right;\">\n",
       "      <th></th>\n",
       "      <th>Coluna 1</th>\n",
       "      <th>Coluna 2</th>\n",
       "      <th>Coluna 3</th>\n",
       "      <th>Coluna 4</th>\n",
       "      <th>Coluna 5</th>\n",
       "      <th>Coluna 6</th>\n",
       "      <th>Coluna 7</th>\n",
       "      <th>Coluna 8</th>\n",
       "      <th>Coluna 8.1</th>\n",
       "      <th>Coluna 10</th>\n",
       "    </tr>\n",
       "  </thead>\n",
       "  <tbody>\n",
       "    <tr>\n",
       "      <th>0</th>\n",
       "      <td>Centro</td>\n",
       "      <td>Simone</td>\n",
       "      <td>2005-10-08</td>\n",
       "      <td>Apartamento</td>\n",
       "      <td>102.5</td>\n",
       "      <td>2</td>\n",
       "      <td>2</td>\n",
       "      <td>Sim</td>\n",
       "      <td>235500</td>\n",
       "      <td>3532.5</td>\n",
       "    </tr>\n",
       "    <tr>\n",
       "      <th>1</th>\n",
       "      <td>Noroeste</td>\n",
       "      <td>Simone</td>\n",
       "      <td>2005-10-08</td>\n",
       "      <td>Apartamento</td>\n",
       "      <td>199.5</td>\n",
       "      <td>4</td>\n",
       "      <td>4</td>\n",
       "      <td>Não</td>\n",
       "      <td>377700</td>\n",
       "      <td>5665.5</td>\n",
       "    </tr>\n",
       "    <tr>\n",
       "      <th>2</th>\n",
       "      <td>Norte</td>\n",
       "      <td>Roberto</td>\n",
       "      <td>2005-10-12</td>\n",
       "      <td>Casa</td>\n",
       "      <td>145.5</td>\n",
       "      <td>2</td>\n",
       "      <td>2</td>\n",
       "      <td>Não</td>\n",
       "      <td>232500</td>\n",
       "      <td>3487.5</td>\n",
       "    </tr>\n",
       "    <tr>\n",
       "      <th>3</th>\n",
       "      <td>Sudeste</td>\n",
       "      <td>Simone</td>\n",
       "      <td>2005-10-14</td>\n",
       "      <td>Apartamento</td>\n",
       "      <td>153.5</td>\n",
       "      <td>3</td>\n",
       "      <td>2</td>\n",
       "      <td>Não</td>\n",
       "      <td>289100</td>\n",
       "      <td>4336.5</td>\n",
       "    </tr>\n",
       "    <tr>\n",
       "      <th>4</th>\n",
       "      <td>Noroeste</td>\n",
       "      <td>Cristina</td>\n",
       "      <td>2005-10-16</td>\n",
       "      <td>Apartamento</td>\n",
       "      <td>93.0</td>\n",
       "      <td>2</td>\n",
       "      <td>2</td>\n",
       "      <td>Sim</td>\n",
       "      <td>235400</td>\n",
       "      <td>3531.0</td>\n",
       "    </tr>\n",
       "  </tbody>\n",
       "</table>\n",
       "</div>"
      ],
      "text/plain": [
       "   Coluna 1  Coluna 2   Coluna 3     Coluna 4  Coluna 5  Coluna 6  Coluna 7  \\\n",
       "0    Centro    Simone 2005-10-08  Apartamento     102.5         2         2   \n",
       "1  Noroeste    Simone 2005-10-08  Apartamento     199.5         4         4   \n",
       "2     Norte   Roberto 2005-10-12         Casa     145.5         2         2   \n",
       "3   Sudeste    Simone 2005-10-14  Apartamento     153.5         3         2   \n",
       "4  Noroeste  Cristina 2005-10-16  Apartamento      93.0         2         2   \n",
       "\n",
       "  Coluna 8  Coluna 8.1  Coluna 10  \n",
       "0      Sim      235500     3532.5  \n",
       "1      Não      377700     5665.5  \n",
       "2      Não      232500     3487.5  \n",
       "3      Não      289100     4336.5  \n",
       "4      Sim      235400     3531.0  "
      ]
     },
     "execution_count": 9,
     "metadata": {},
     "output_type": "execute_result"
    }
   ],
   "source": [
    "##c) Visualize o cabeçalho dos dados\n",
    "\n",
    "df.head()"
   ]
  },
  {
   "cell_type": "code",
   "execution_count": 10,
   "metadata": {},
   "outputs": [
    {
     "data": {
      "text/html": [
       "<div>\n",
       "<style scoped>\n",
       "    .dataframe tbody tr th:only-of-type {\n",
       "        vertical-align: middle;\n",
       "    }\n",
       "\n",
       "    .dataframe tbody tr th {\n",
       "        vertical-align: top;\n",
       "    }\n",
       "\n",
       "    .dataframe thead th {\n",
       "        text-align: right;\n",
       "    }\n",
       "</style>\n",
       "<table border=\"1\" class=\"dataframe\">\n",
       "  <thead>\n",
       "    <tr style=\"text-align: right;\">\n",
       "      <th></th>\n",
       "      <th>Coluna 1</th>\n",
       "      <th>Coluna 2</th>\n",
       "      <th>Coluna 3</th>\n",
       "      <th>Coluna 4</th>\n",
       "      <th>Coluna 5</th>\n",
       "      <th>Coluna 6</th>\n",
       "      <th>Coluna 7</th>\n",
       "      <th>Coluna 8</th>\n",
       "      <th>Coluna 8.1</th>\n",
       "      <th>Coluna 10</th>\n",
       "    </tr>\n",
       "  </thead>\n",
       "  <tbody>\n",
       "    <tr>\n",
       "      <th>1112</th>\n",
       "      <td>Sudeste</td>\n",
       "      <td>Cristina</td>\n",
       "      <td>2011-03-19</td>\n",
       "      <td>Apartamento</td>\n",
       "      <td>87.5</td>\n",
       "      <td>2</td>\n",
       "      <td>0</td>\n",
       "      <td>Não</td>\n",
       "      <td>221500</td>\n",
       "      <td>3322.5</td>\n",
       "    </tr>\n",
       "    <tr>\n",
       "      <th>1113</th>\n",
       "      <td>Sudeste</td>\n",
       "      <td>Simone</td>\n",
       "      <td>2011-03-20</td>\n",
       "      <td>Apartamento</td>\n",
       "      <td>74.5</td>\n",
       "      <td>2</td>\n",
       "      <td>2</td>\n",
       "      <td>Não</td>\n",
       "      <td>224400</td>\n",
       "      <td>3366.0</td>\n",
       "    </tr>\n",
       "    <tr>\n",
       "      <th>1114</th>\n",
       "      <td>Norte</td>\n",
       "      <td>João Carlos</td>\n",
       "      <td>2011-03-21</td>\n",
       "      <td>Apartamento</td>\n",
       "      <td>192.0</td>\n",
       "      <td>4</td>\n",
       "      <td>4</td>\n",
       "      <td>Não</td>\n",
       "      <td>361000</td>\n",
       "      <td>5415.0</td>\n",
       "    </tr>\n",
       "    <tr>\n",
       "      <th>1115</th>\n",
       "      <td>Leste</td>\n",
       "      <td>Simone</td>\n",
       "      <td>2011-03-27</td>\n",
       "      <td>Apartamento</td>\n",
       "      <td>42.0</td>\n",
       "      <td>1</td>\n",
       "      <td>1</td>\n",
       "      <td>Sim</td>\n",
       "      <td>167900</td>\n",
       "      <td>2518.5</td>\n",
       "    </tr>\n",
       "    <tr>\n",
       "      <th>1116</th>\n",
       "      <td>Oeste</td>\n",
       "      <td>Simone</td>\n",
       "      <td>2011-03-28</td>\n",
       "      <td>Apartamento</td>\n",
       "      <td>100.5</td>\n",
       "      <td>2</td>\n",
       "      <td>2</td>\n",
       "      <td>Sim</td>\n",
       "      <td>227600</td>\n",
       "      <td>3414.0</td>\n",
       "    </tr>\n",
       "  </tbody>\n",
       "</table>\n",
       "</div>"
      ],
      "text/plain": [
       "     Coluna 1     Coluna 2   Coluna 3     Coluna 4  Coluna 5  Coluna 6  \\\n",
       "1112  Sudeste     Cristina 2011-03-19  Apartamento      87.5         2   \n",
       "1113  Sudeste       Simone 2011-03-20  Apartamento      74.5         2   \n",
       "1114    Norte  João Carlos 2011-03-21  Apartamento     192.0         4   \n",
       "1115    Leste       Simone 2011-03-27  Apartamento      42.0         1   \n",
       "1116    Oeste       Simone 2011-03-28  Apartamento     100.5         2   \n",
       "\n",
       "      Coluna 7 Coluna 8  Coluna 8.1  Coluna 10  \n",
       "1112         0      Não      221500     3322.5  \n",
       "1113         2      Não      224400     3366.0  \n",
       "1114         4      Não      361000     5415.0  \n",
       "1115         1      Sim      167900     2518.5  \n",
       "1116         2      Sim      227600     3414.0  "
      ]
     },
     "execution_count": 10,
     "metadata": {},
     "output_type": "execute_result"
    }
   ],
   "source": [
    "## d) Visualize as últimas linhas\n",
    "\n",
    "df.tail()"
   ]
  },
  {
   "cell_type": "code",
   "execution_count": 11,
   "metadata": {},
   "outputs": [
    {
     "data": {
      "text/html": [
       "<div>\n",
       "<style scoped>\n",
       "    .dataframe tbody tr th:only-of-type {\n",
       "        vertical-align: middle;\n",
       "    }\n",
       "\n",
       "    .dataframe tbody tr th {\n",
       "        vertical-align: top;\n",
       "    }\n",
       "\n",
       "    .dataframe thead th {\n",
       "        text-align: right;\n",
       "    }\n",
       "</style>\n",
       "<table border=\"1\" class=\"dataframe\">\n",
       "  <thead>\n",
       "    <tr style=\"text-align: right;\">\n",
       "      <th></th>\n",
       "      <th>Filial</th>\n",
       "      <th>Vendedor</th>\n",
       "      <th>data</th>\n",
       "      <th>tipo</th>\n",
       "      <th>area</th>\n",
       "      <th>dorms</th>\n",
       "      <th>garag</th>\n",
       "      <th>piscina</th>\n",
       "      <th>preco</th>\n",
       "      <th>comissao</th>\n",
       "    </tr>\n",
       "  </thead>\n",
       "  <tbody>\n",
       "    <tr>\n",
       "      <th>0</th>\n",
       "      <td>Centro</td>\n",
       "      <td>Simone</td>\n",
       "      <td>2005-10-08</td>\n",
       "      <td>Apartamento</td>\n",
       "      <td>102.5</td>\n",
       "      <td>2</td>\n",
       "      <td>2</td>\n",
       "      <td>Sim</td>\n",
       "      <td>235500</td>\n",
       "      <td>3532.5</td>\n",
       "    </tr>\n",
       "  </tbody>\n",
       "</table>\n",
       "</div>"
      ],
      "text/plain": [
       "   Filial Vendedor       data         tipo   area  dorms  garag piscina  \\\n",
       "0  Centro   Simone 2005-10-08  Apartamento  102.5      2      2     Sim   \n",
       "\n",
       "    preco  comissao  \n",
       "0  235500    3532.5  "
      ]
     },
     "execution_count": 11,
     "metadata": {},
     "output_type": "execute_result"
    }
   ],
   "source": [
    "## e) Escreva um programa para renomear o cabeçalho da tabela com os\n",
    "# seguintes nomes:\n",
    "\n",
    "## outra forma de mudar as colunas, que neste caso terá que mudar todas as colunas\n",
    "\n",
    "headers = [\n",
    "    'Filial','Vendedor','data','tipo','area','dorms','garag','piscina','preco','comissao'\n",
    "]\n",
    "\n",
    "df.columns = (headers)\n",
    "df.head(1)"
   ]
  },
  {
   "cell_type": "markdown",
   "metadata": {},
   "source": [
    "#### g) 5. Quais são os tipos de dados que temos no dataframe?\n",
    "#### h) 6. Há valores faltantes ou nulos?"
   ]
  },
  {
   "cell_type": "code",
   "execution_count": 12,
   "metadata": {},
   "outputs": [
    {
     "name": "stdout",
     "output_type": "stream",
     "text": [
      "<class 'pandas.core.frame.DataFrame'>\n",
      "RangeIndex: 1117 entries, 0 to 1116\n",
      "Data columns (total 10 columns):\n",
      " #   Column    Non-Null Count  Dtype         \n",
      "---  ------    --------------  -----         \n",
      " 0   Filial    1117 non-null   object        \n",
      " 1   Vendedor  1117 non-null   object        \n",
      " 2   data      1117 non-null   datetime64[ns]\n",
      " 3   tipo      1117 non-null   object        \n",
      " 4   area      1117 non-null   float64       \n",
      " 5   dorms     1117 non-null   int64         \n",
      " 6   garag     1117 non-null   int64         \n",
      " 7   piscina   1117 non-null   object        \n",
      " 8   preco     1117 non-null   int64         \n",
      " 9   comissao  1117 non-null   float64       \n",
      "dtypes: datetime64[ns](1), float64(2), int64(3), object(4)\n",
      "memory usage: 87.4+ KB\n"
     ]
    }
   ],
   "source": [
    "\n",
    "# não há valores nulos, pois todos estão como 1117 que são os registros totais\n",
    "df.info()"
   ]
  },
  {
   "cell_type": "code",
   "execution_count": 13,
   "metadata": {},
   "outputs": [
    {
     "data": {
      "text/html": [
       "<div>\n",
       "<style scoped>\n",
       "    .dataframe tbody tr th:only-of-type {\n",
       "        vertical-align: middle;\n",
       "    }\n",
       "\n",
       "    .dataframe tbody tr th {\n",
       "        vertical-align: top;\n",
       "    }\n",
       "\n",
       "    .dataframe thead th {\n",
       "        text-align: right;\n",
       "    }\n",
       "</style>\n",
       "<table border=\"1\" class=\"dataframe\">\n",
       "  <thead>\n",
       "    <tr style=\"text-align: right;\">\n",
       "      <th></th>\n",
       "      <th>data</th>\n",
       "      <th>area</th>\n",
       "      <th>dorms</th>\n",
       "      <th>garag</th>\n",
       "      <th>preco</th>\n",
       "      <th>comissao</th>\n",
       "    </tr>\n",
       "  </thead>\n",
       "  <tbody>\n",
       "    <tr>\n",
       "      <th>count</th>\n",
       "      <td>1117</td>\n",
       "      <td>1117.000000</td>\n",
       "      <td>1117.000000</td>\n",
       "      <td>1117.000000</td>\n",
       "      <td>1117.000000</td>\n",
       "      <td>1117.000000</td>\n",
       "    </tr>\n",
       "    <tr>\n",
       "      <th>mean</th>\n",
       "      <td>2008-06-24 03:30:08.057296384</td>\n",
       "      <td>125.965085</td>\n",
       "      <td>2.523724</td>\n",
       "      <td>1.646374</td>\n",
       "      <td>264131.602507</td>\n",
       "      <td>3961.974038</td>\n",
       "    </tr>\n",
       "    <tr>\n",
       "      <th>min</th>\n",
       "      <td>2005-10-08 00:00:00</td>\n",
       "      <td>25.000000</td>\n",
       "      <td>1.000000</td>\n",
       "      <td>0.000000</td>\n",
       "      <td>145100.000000</td>\n",
       "      <td>2176.500000</td>\n",
       "    </tr>\n",
       "    <tr>\n",
       "      <th>25%</th>\n",
       "      <td>2007-01-29 00:00:00</td>\n",
       "      <td>82.000000</td>\n",
       "      <td>2.000000</td>\n",
       "      <td>1.000000</td>\n",
       "      <td>213500.000000</td>\n",
       "      <td>3202.500000</td>\n",
       "    </tr>\n",
       "    <tr>\n",
       "      <th>50%</th>\n",
       "      <td>2008-06-08 00:00:00</td>\n",
       "      <td>127.000000</td>\n",
       "      <td>3.000000</td>\n",
       "      <td>2.000000</td>\n",
       "      <td>284300.000000</td>\n",
       "      <td>4264.500000</td>\n",
       "    </tr>\n",
       "    <tr>\n",
       "      <th>75%</th>\n",
       "      <td>2009-11-30 00:00:00</td>\n",
       "      <td>169.500000</td>\n",
       "      <td>3.000000</td>\n",
       "      <td>3.000000</td>\n",
       "      <td>314700.000000</td>\n",
       "      <td>4720.500000</td>\n",
       "    </tr>\n",
       "    <tr>\n",
       "      <th>max</th>\n",
       "      <td>2011-03-28 00:00:00</td>\n",
       "      <td>245.000000</td>\n",
       "      <td>4.000000</td>\n",
       "      <td>4.000000</td>\n",
       "      <td>384300.000000</td>\n",
       "      <td>5764.500000</td>\n",
       "    </tr>\n",
       "    <tr>\n",
       "      <th>std</th>\n",
       "      <td>NaN</td>\n",
       "      <td>53.290147</td>\n",
       "      <td>1.106603</td>\n",
       "      <td>1.233972</td>\n",
       "      <td>77249.578385</td>\n",
       "      <td>1158.743676</td>\n",
       "    </tr>\n",
       "  </tbody>\n",
       "</table>\n",
       "</div>"
      ],
      "text/plain": [
       "                                data         area        dorms        garag  \\\n",
       "count                           1117  1117.000000  1117.000000  1117.000000   \n",
       "mean   2008-06-24 03:30:08.057296384   125.965085     2.523724     1.646374   \n",
       "min              2005-10-08 00:00:00    25.000000     1.000000     0.000000   \n",
       "25%              2007-01-29 00:00:00    82.000000     2.000000     1.000000   \n",
       "50%              2008-06-08 00:00:00   127.000000     3.000000     2.000000   \n",
       "75%              2009-11-30 00:00:00   169.500000     3.000000     3.000000   \n",
       "max              2011-03-28 00:00:00   245.000000     4.000000     4.000000   \n",
       "std                              NaN    53.290147     1.106603     1.233972   \n",
       "\n",
       "               preco     comissao  \n",
       "count    1117.000000  1117.000000  \n",
       "mean   264131.602507  3961.974038  \n",
       "min    145100.000000  2176.500000  \n",
       "25%    213500.000000  3202.500000  \n",
       "50%    284300.000000  4264.500000  \n",
       "75%    314700.000000  4720.500000  \n",
       "max    384300.000000  5764.500000  \n",
       "std     77249.578385  1158.743676  "
      ]
     },
     "execution_count": 13,
     "metadata": {},
     "output_type": "execute_result"
    }
   ],
   "source": [
    "df.describe()"
   ]
  },
  {
   "cell_type": "code",
   "execution_count": 14,
   "metadata": {},
   "outputs": [
    {
     "data": {
      "text/plain": [
       "295035000"
      ]
     },
     "execution_count": 14,
     "metadata": {},
     "output_type": "execute_result"
    }
   ],
   "source": [
    "#calculando a soma da coluna preço\n",
    "\n",
    "df['preco'].sum()"
   ]
  },
  {
   "cell_type": "code",
   "execution_count": 15,
   "metadata": {},
   "outputs": [
    {
     "data": {
      "text/plain": [
       "264131.6025067144"
      ]
     },
     "execution_count": 15,
     "metadata": {},
     "output_type": "execute_result"
    }
   ],
   "source": [
    "# Calculando a media da coluna preço\n",
    "df['preco'].mean()"
   ]
  },
  {
   "cell_type": "code",
   "execution_count": 16,
   "metadata": {},
   "outputs": [
    {
     "data": {
      "text/plain": [
       "384300"
      ]
     },
     "execution_count": 16,
     "metadata": {},
     "output_type": "execute_result"
    }
   ],
   "source": [
    "# Encontrar o maior valor da coluna Preço\n",
    "\n",
    "df['preco'].max()"
   ]
  },
  {
   "cell_type": "code",
   "execution_count": 17,
   "metadata": {},
   "outputs": [
    {
     "data": {
      "text/plain": [
       "145100"
      ]
     },
     "execution_count": 17,
     "metadata": {},
     "output_type": "execute_result"
    }
   ],
   "source": [
    "# encontrar o menor valor da coluna preço\n",
    "\n",
    "df['preco'].min()"
   ]
  },
  {
   "cell_type": "code",
   "execution_count": 18,
   "metadata": {},
   "outputs": [
    {
     "data": {
      "text/plain": [
       "1117"
      ]
     },
     "execution_count": 18,
     "metadata": {},
     "output_type": "execute_result"
    }
   ],
   "source": [
    "# Calculando a contagem de colunas\n",
    "df['preco'].count()"
   ]
  },
  {
   "cell_type": "markdown",
   "metadata": {},
   "source": [
    "#### 8. Crie um programa para criar um dataframe para mostrar as vendas por\n",
    "#### região, e salvar um arquivo em Excel para cada região."
   ]
  },
  {
   "cell_type": "code",
   "execution_count": 19,
   "metadata": {},
   "outputs": [],
   "source": [
    "# Gerar um relatório de venda da região CENTRO\n",
    "\n",
    "# Filtrar os dados do \"Centro\"\n",
    "\n",
    "df_final = df[df['Filial'] == 'Centro']\n",
    "\n",
    "# Mapear o caminho final e definir um nome para o arquivo\n",
    "# Neste caso será colocado o \\\\ no final do diretório também\n",
    "caminho = 'C:\\\\Users\\\\FIC\\\\Documents\\\\gabriel-eloi-python\\\\relatorios filiais\\\\'\n",
    "arquivo = 'centro.xlsx'\n",
    "\n",
    "# Salvar o arquivo na pasta\n",
    "\n",
    "df_final.to_excel(caminho + arquivo)"
   ]
  },
  {
   "cell_type": "code",
   "execution_count": 20,
   "metadata": {},
   "outputs": [],
   "source": [
    "# Filtrar por Noroeste\n",
    "\n",
    "df_final = df[df['Filial'] == 'Noroeste']\n",
    "\n",
    "caminho = 'C:\\\\Users\\\\FIC\\\\Documents\\\\gabriel-eloi-python\\\\relatorios filiais\\\\'\n",
    "arquivo = 'noroeste.xlsx'\n",
    "\n",
    "df_final.to_excel(caminho + arquivo)"
   ]
  },
  {
   "cell_type": "code",
   "execution_count": 21,
   "metadata": {},
   "outputs": [],
   "source": [
    "# Filtrar por Norte\n",
    "\n",
    "df_final = df[df['Filial'] == 'Norte']\n",
    "\n",
    "caminho = 'C:\\\\Users\\\\FIC\\\\Documents\\\\gabriel-eloi-python\\\\relatorios filiais\\\\'\n",
    "arquivo = 'norte.xlsx'\n",
    "\n",
    "df_final.to_excel(caminho + arquivo)"
   ]
  },
  {
   "cell_type": "code",
   "execution_count": 22,
   "metadata": {},
   "outputs": [],
   "source": [
    "df_final = df[df['Filial'] == 'Sudeste']\n",
    "\n",
    "caminho = 'C:\\\\Users\\\\FIC\\\\Documents\\\\gabriel-eloi-python\\\\relatorios filiais\\\\'\n",
    "arquivo = 'sudeste.xlsx'\n",
    "\n",
    "df_final.to_excel(caminho + arquivo)"
   ]
  },
  {
   "cell_type": "code",
   "execution_count": 23,
   "metadata": {},
   "outputs": [],
   "source": [
    "df_final = df[df['Filial'] == 'Oeste']\n",
    "\n",
    "caminho = 'C:\\\\Users\\\\FIC\\\\Documents\\\\gabriel-eloi-python\\\\relatorios filiais\\\\'\n",
    "arquivo = 'oeste.xlsx'\n",
    "\n",
    "df_final.to_excel(caminho + arquivo)"
   ]
  },
  {
   "cell_type": "code",
   "execution_count": 24,
   "metadata": {},
   "outputs": [],
   "source": [
    "df_final = df[df['Filial'] == 'Leste']\n",
    "\n",
    "caminho = 'C:\\\\Users\\\\FIC\\\\Documents\\\\gabriel-eloi-python\\\\relatorios filiais\\\\'\n",
    "arquivo = 'leste.xlsx'\n",
    "\n",
    "df_final.to_excel(caminho + arquivo)"
   ]
  },
  {
   "cell_type": "code",
   "execution_count": 25,
   "metadata": {},
   "outputs": [],
   "source": [
    "df_final = df[df['Filial'] == 'Sudoeste']\n",
    "\n",
    "caminho = 'C:\\\\Users\\\\FIC\\\\Documents\\\\gabriel-eloi-python\\\\relatorios filiais\\\\'\n",
    "arquivo = 'sudoeste.xlsx'\n",
    "\n",
    "df_final.to_excel(caminho + arquivo)"
   ]
  },
  {
   "cell_type": "code",
   "execution_count": 26,
   "metadata": {},
   "outputs": [],
   "source": [
    "df_final = df[df['Filial'] == 'Sul']\n",
    "\n",
    "caminho = 'C:\\\\Users\\\\FIC\\\\Documents\\\\gabriel-eloi-python\\\\relatorios filiais\\\\'\n",
    "arquivo = 'sul.xlsx'\n",
    "\n",
    "df_final.to_excel(caminho + arquivo)"
   ]
  },
  {
   "cell_type": "code",
   "execution_count": 28,
   "metadata": {},
   "outputs": [],
   "source": [
    "df_final = df[df['Filial'] == 'Nordeste']\n",
    "\n",
    "\n",
    "caminho = 'C:\\\\Users\\\\FIC\\\\Documents\\\\gabriel-eloi-python\\\\relatorios filiais\\\\'\n",
    "arquivo = 'nordeste.xlsx'\n",
    "\n",
    "df_final.to_excel(caminho + arquivo)\n"
   ]
  },
  {
   "cell_type": "code",
   "execution_count": 42,
   "metadata": {},
   "outputs": [],
   "source": [
    "# filtrar por vendas na região norte em 2010\n",
    "# & = and\n",
    "# | = or\n",
    "df_final = df[(df['Filial'] == 'Norte')& \n",
    "(df['data'] >='2010-01-01')& \n",
    "(df['data'] <= '2010-12-31')]\n",
    "\n",
    "\n",
    "caminho = 'C:\\\\Users\\\\FIC\\\\Documents\\\\gabriel-eloi-python\\\\relatorios filiais\\\\'\n",
    "arquivo = 'norte2010.xlsx'\n",
    "\n",
    "df_final.to_excel(caminho + arquivo, index=False)\n",
    "\n",
    "\n"
   ]
  },
  {
   "cell_type": "markdown",
   "metadata": {},
   "source": [
    "m) Gere um arquivo em Excel para representar as vendas efetuadas pela filial\n",
    "Sudeste em 2010. Sendo que no relatório deve conter apenas vendas de casas\n",
    "sem garagem."
   ]
  },
  {
   "cell_type": "code",
   "execution_count": 49,
   "metadata": {},
   "outputs": [],
   "source": [
    "df_final = df[(df['Filial'] == 'Sudeste')&\n",
    "   (df['data']>= '2010-01-01')&\n",
    "   (df['data']<= '2010-12-31')&\n",
    "   (df['tipo'] == 'Casa')&\n",
    "   (df['garag'] ==0)]\n",
    "\n",
    "caminho = 'C:\\\\Users\\\\FIC\\\\Documents\\\\gabriel-eloi-python\\\\relatorios filiais\\\\'\n",
    "arquivo = 'sudesteSemGaragem.xlsx'\n",
    "\n",
    "df_final.to_excel(caminho + arquivo, index=False)\n",
    "\n"
   ]
  },
  {
   "cell_type": "markdown",
   "metadata": {},
   "source": [
    "Qual o valor máximo de comissão que a imobiliária numa venda?"
   ]
  },
  {
   "cell_type": "code",
   "execution_count": 50,
   "metadata": {},
   "outputs": [
    {
     "data": {
      "text/plain": [
       "5764.5"
      ]
     },
     "execution_count": 50,
     "metadata": {},
     "output_type": "execute_result"
    }
   ],
   "source": [
    "# Este código vai filtrar a tabela\n",
    "# considerando o maior valor de comissão pago\n",
    "# pela imobiliária, por meio da função max()\n",
    "\n",
    "df[df['comissao']==df['comissao'].max()]"
   ]
  },
  {
   "cell_type": "markdown",
   "metadata": {},
   "source": [
    "o) Quantas casas de 2 ou 3 dormitórios foram vendidas pelo Ricardo antes de 2011."
   ]
  },
  {
   "cell_type": "code",
   "execution_count": 60,
   "metadata": {},
   "outputs": [
    {
     "data": {
      "text/html": [
       "<div>\n",
       "<style scoped>\n",
       "    .dataframe tbody tr th:only-of-type {\n",
       "        vertical-align: middle;\n",
       "    }\n",
       "\n",
       "    .dataframe tbody tr th {\n",
       "        vertical-align: top;\n",
       "    }\n",
       "\n",
       "    .dataframe thead th {\n",
       "        text-align: right;\n",
       "    }\n",
       "</style>\n",
       "<table border=\"1\" class=\"dataframe\">\n",
       "  <thead>\n",
       "    <tr style=\"text-align: right;\">\n",
       "      <th></th>\n",
       "      <th>Filial</th>\n",
       "      <th>Vendedor</th>\n",
       "      <th>data</th>\n",
       "      <th>tipo</th>\n",
       "      <th>area</th>\n",
       "      <th>dorms</th>\n",
       "      <th>garag</th>\n",
       "      <th>piscina</th>\n",
       "      <th>preco</th>\n",
       "      <th>comissao</th>\n",
       "    </tr>\n",
       "  </thead>\n",
       "  <tbody>\n",
       "    <tr>\n",
       "      <th>3</th>\n",
       "      <td>Sudeste</td>\n",
       "      <td>Simone</td>\n",
       "      <td>2005-10-14</td>\n",
       "      <td>Apartamento</td>\n",
       "      <td>153.5</td>\n",
       "      <td>3</td>\n",
       "      <td>2</td>\n",
       "      <td>Não</td>\n",
       "      <td>289100</td>\n",
       "      <td>4336.5</td>\n",
       "    </tr>\n",
       "    <tr>\n",
       "      <th>5</th>\n",
       "      <td>Oeste</td>\n",
       "      <td>Roberto</td>\n",
       "      <td>2005-10-17</td>\n",
       "      <td>Apartamento</td>\n",
       "      <td>124.0</td>\n",
       "      <td>3</td>\n",
       "      <td>2</td>\n",
       "      <td>Sim</td>\n",
       "      <td>294900</td>\n",
       "      <td>4423.5</td>\n",
       "    </tr>\n",
       "    <tr>\n",
       "      <th>8</th>\n",
       "      <td>Sudoeste</td>\n",
       "      <td>João Carlos</td>\n",
       "      <td>2005-10-21</td>\n",
       "      <td>Casa</td>\n",
       "      <td>137.5</td>\n",
       "      <td>3</td>\n",
       "      <td>1</td>\n",
       "      <td>Não</td>\n",
       "      <td>294800</td>\n",
       "      <td>4422.0</td>\n",
       "    </tr>\n",
       "    <tr>\n",
       "      <th>10</th>\n",
       "      <td>Norte</td>\n",
       "      <td>Cristina</td>\n",
       "      <td>2005-10-30</td>\n",
       "      <td>Apartamento</td>\n",
       "      <td>136.5</td>\n",
       "      <td>3</td>\n",
       "      <td>1</td>\n",
       "      <td>Não</td>\n",
       "      <td>288800</td>\n",
       "      <td>4332.0</td>\n",
       "    </tr>\n",
       "    <tr>\n",
       "      <th>12</th>\n",
       "      <td>Centro</td>\n",
       "      <td>Adriana</td>\n",
       "      <td>2005-11-01</td>\n",
       "      <td>Casa</td>\n",
       "      <td>191.0</td>\n",
       "      <td>3</td>\n",
       "      <td>3</td>\n",
       "      <td>Sim</td>\n",
       "      <td>298600</td>\n",
       "      <td>4479.0</td>\n",
       "    </tr>\n",
       "    <tr>\n",
       "      <th>...</th>\n",
       "      <td>...</td>\n",
       "      <td>...</td>\n",
       "      <td>...</td>\n",
       "      <td>...</td>\n",
       "      <td>...</td>\n",
       "      <td>...</td>\n",
       "      <td>...</td>\n",
       "      <td>...</td>\n",
       "      <td>...</td>\n",
       "      <td>...</td>\n",
       "    </tr>\n",
       "    <tr>\n",
       "      <th>1084</th>\n",
       "      <td>Sudoeste</td>\n",
       "      <td>João Carlos</td>\n",
       "      <td>2011-02-01</td>\n",
       "      <td>Casa</td>\n",
       "      <td>124.5</td>\n",
       "      <td>3</td>\n",
       "      <td>3</td>\n",
       "      <td>Não</td>\n",
       "      <td>304200</td>\n",
       "      <td>4563.0</td>\n",
       "    </tr>\n",
       "    <tr>\n",
       "      <th>1103</th>\n",
       "      <td>Leste</td>\n",
       "      <td>João Carlos</td>\n",
       "      <td>2011-03-03</td>\n",
       "      <td>Casa</td>\n",
       "      <td>168.0</td>\n",
       "      <td>3</td>\n",
       "      <td>1</td>\n",
       "      <td>Não</td>\n",
       "      <td>296500</td>\n",
       "      <td>4447.5</td>\n",
       "    </tr>\n",
       "    <tr>\n",
       "      <th>1105</th>\n",
       "      <td>Oeste</td>\n",
       "      <td>Roberto</td>\n",
       "      <td>2011-03-06</td>\n",
       "      <td>Casa</td>\n",
       "      <td>125.5</td>\n",
       "      <td>3</td>\n",
       "      <td>3</td>\n",
       "      <td>Sim</td>\n",
       "      <td>305000</td>\n",
       "      <td>4575.0</td>\n",
       "    </tr>\n",
       "    <tr>\n",
       "      <th>1106</th>\n",
       "      <td>Norte</td>\n",
       "      <td>Simone</td>\n",
       "      <td>2011-03-09</td>\n",
       "      <td>Apartamento</td>\n",
       "      <td>144.5</td>\n",
       "      <td>3</td>\n",
       "      <td>2</td>\n",
       "      <td>Sim</td>\n",
       "      <td>298400</td>\n",
       "      <td>4476.0</td>\n",
       "    </tr>\n",
       "    <tr>\n",
       "      <th>1108</th>\n",
       "      <td>Sudeste</td>\n",
       "      <td>Cristina</td>\n",
       "      <td>2011-03-12</td>\n",
       "      <td>Casa</td>\n",
       "      <td>185.5</td>\n",
       "      <td>3</td>\n",
       "      <td>1</td>\n",
       "      <td>Não</td>\n",
       "      <td>297500</td>\n",
       "      <td>4462.5</td>\n",
       "    </tr>\n",
       "  </tbody>\n",
       "</table>\n",
       "<p>309 rows × 10 columns</p>\n",
       "</div>"
      ],
      "text/plain": [
       "        Filial     Vendedor       data         tipo   area  dorms  garag  \\\n",
       "3      Sudeste       Simone 2005-10-14  Apartamento  153.5      3      2   \n",
       "5        Oeste      Roberto 2005-10-17  Apartamento  124.0      3      2   \n",
       "8     Sudoeste  João Carlos 2005-10-21         Casa  137.5      3      1   \n",
       "10       Norte     Cristina 2005-10-30  Apartamento  136.5      3      1   \n",
       "12      Centro      Adriana 2005-11-01         Casa  191.0      3      3   \n",
       "...        ...          ...        ...          ...    ...    ...    ...   \n",
       "1084  Sudoeste  João Carlos 2011-02-01         Casa  124.5      3      3   \n",
       "1103     Leste  João Carlos 2011-03-03         Casa  168.0      3      1   \n",
       "1105     Oeste      Roberto 2011-03-06         Casa  125.5      3      3   \n",
       "1106     Norte       Simone 2011-03-09  Apartamento  144.5      3      2   \n",
       "1108   Sudeste     Cristina 2011-03-12         Casa  185.5      3      1   \n",
       "\n",
       "     piscina   preco  comissao  \n",
       "3        Não  289100    4336.5  \n",
       "5        Sim  294900    4423.5  \n",
       "8        Não  294800    4422.0  \n",
       "10       Não  288800    4332.0  \n",
       "12       Sim  298600    4479.0  \n",
       "...      ...     ...       ...  \n",
       "1084     Não  304200    4563.0  \n",
       "1103     Não  296500    4447.5  \n",
       "1105     Sim  305000    4575.0  \n",
       "1106     Sim  298400    4476.0  \n",
       "1108     Não  297500    4462.5  \n",
       "\n",
       "[309 rows x 10 columns]"
      ]
     },
     "execution_count": 60,
     "metadata": {},
     "output_type": "execute_result"
    }
   ],
   "source": [
    "df[(df['Vendedor'] == 'Ricardo')&\n",
    "   (df['data'] < '2010-12-31')&\n",
    "   (df['tipo'] == 'Casa')&\n",
    "   ((df['dorms'] == 2)|(df['dorms'] == 3))]  # colocamos dois parênteses para ele identificar primeiro está condição para depois identificar as outras\n",
    "   "
   ]
  }
 ],
 "metadata": {
  "kernelspec": {
   "display_name": "Python 3",
   "language": "python",
   "name": "python3"
  },
  "language_info": {
   "codemirror_mode": {
    "name": "ipython",
    "version": 3
   },
   "file_extension": ".py",
   "mimetype": "text/x-python",
   "name": "python",
   "nbconvert_exporter": "python",
   "pygments_lexer": "ipython3",
   "version": "3.11.0"
  }
 },
 "nbformat": 4,
 "nbformat_minor": 2
}
