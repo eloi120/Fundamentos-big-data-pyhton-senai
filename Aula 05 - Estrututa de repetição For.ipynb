{
 "cells": [
  {
   "cell_type": "markdown",
   "metadata": {},
   "source": [
    "For variável in lista de elementos:\n",
    "{ ações a serem repetidos dentro do laõ de repetição}\n",
    "\n",
    "exemplo: ['A,'B,'C]\n",
    "\n",
    "for X in lista\n",
    "print(X)"
   ]
  },
  {
   "cell_type": "markdown",
   "metadata": {},
   "source": [
    "exemplo: for X in listaNumeros\n",
    "\n",
    "a variável listaNumeros que criamos no começo que contém os elementos será passada para x, que foi uma outra variável que criamos para armazenar os elementos de listaNumeros"
   ]
  },
  {
   "cell_type": "code",
   "execution_count": null,
   "metadata": {},
   "outputs": [],
   "source": [
    "## exemplo de um FOR simples\n",
    "frutas = ['Abacaxi','Abacate','Laranja']\n",
    "\n",
    "for fruta in frutas:\n",
    "\n",
    "    print(fruta)"
   ]
  },
  {
   "cell_type": "markdown",
   "metadata": {},
   "source": [
    "## FOR CONDICIONAL (FOR + IF)"
   ]
  },
  {
   "cell_type": "code",
   "execution_count": null,
   "metadata": {},
   "outputs": [],
   "source": [
    "frutas = ['Abacaxi','Abacate','Laranja']\n",
    "\n",
    "for fruta in frutas:\n",
    "\n",
    "    if fruta.startswith('Aba'):\n",
    "        print(fruta)"
   ]
  },
  {
   "cell_type": "markdown",
   "metadata": {},
   "source": [
    "### FOR com uma variável acumuladora"
   ]
  },
  {
   "cell_type": "code",
   "execution_count": null,
   "metadata": {},
   "outputs": [],
   "source": [
    "listaNumeros = [1,2,3,4,5,6,7,8,9,10]\n",
    "\n",
    "soma = 0 #Variável acumuladora\n",
    "\n",
    "for numero in listaNumeros:\n",
    "    soma = soma + numero\n",
    "\n",
    "   \n",
    "    print(soma)\n"
   ]
  },
  {
   "cell_type": "markdown",
   "metadata": {},
   "source": [
    "## Exercício 06 - Faça um programa que imprima na tela os números de 1 a 20, um abaixo\n",
    "do outro. Depois modifique o programa para que ele mostre os números um ao lado do\n",
    "outro."
   ]
  },
  {
   "cell_type": "code",
   "execution_count": null,
   "metadata": {},
   "outputs": [],
   "source": [
    "## no python ele sempre começa no indice 0, então teremos que colocar 21 ao inves de 20 para mostrar o número 20 no print\n",
    "listaNumeros = range(1,21)\n",
    "\n",
    "\n",
    "for numero in listaNumeros:\n",
    " \n",
    "    print(numero)"
   ]
  },
  {
   "cell_type": "code",
   "execution_count": null,
   "metadata": {},
   "outputs": [],
   "source": [
    "# Parte 2 do exercicio\n",
    "listaNumeros = range(1,21)\n",
    "\n",
    "# Lista Vazia\n",
    "lista = []\n",
    "\n",
    "for x in listaNumeros:\n",
    "    # Adicionar novos elementos à lista\n",
    "    lista.append(x)\n",
    "    print(lista)"
   ]
  },
  {
   "cell_type": "markdown",
   "metadata": {},
   "source": [
    "### Exercício 07 - Faça um programa que leia 5 números e informe o maior número."
   ]
  },
  {
   "cell_type": "code",
   "execution_count": null,
   "metadata": {},
   "outputs": [],
   "source": [
    "# neste caso, o range será para delimitar a quantidade de números que o exercicio pede, que no caso será 5, e essa regra sera armazenada na variável listaControle\n",
    "listaControle = range(1,6)\n",
    "\n",
    "# lista vazia\n",
    "numeros = []\n",
    "\n",
    "# o i receberá a regra/controle que foi imposta no \"listaControle\" e serão armazenados 5 números que ainda vão ser pedidos ainda\n",
    "for i in listaControle:\n",
    "    # agora precisamos colocar uma mensagem para a pessoa digitar os 5 números, e esses números serão armazenados na variável \"num\"\n",
    "    num = int(input('Informe um valor'))\n",
    "    # aqui serão adicionados os valores da variável em que estão os números na lista vazia conforme criada a cima\n",
    "    numeros.append(num)\n",
    "print(numeros)\n",
    "\n",
    "# o max indica qual é o maior valor que digitamos\n",
    "max(numeros)"
   ]
  },
  {
   "cell_type": "markdown",
   "metadata": {},
   "source": [
    "### Exercício 08 - Faça um programa que leia 5 números e informe a soma e a média dos\n",
    "números."
   ]
  },
  {
   "cell_type": "code",
   "execution_count": null,
   "metadata": {},
   "outputs": [],
   "source": [
    "listaControle = range(1,6)\n",
    "\n",
    "numeros = []\n",
    "\n",
    "for i in listaControle:\n",
    "    num = int(input(f'Insira o {i}ª valor'))\n",
    "    \n",
    "    numeros.append(num)\n",
    "# soma    \n",
    "soma = sum(numeros)\n",
    "# quantidade para dividir e fazer a media\n",
    "qtde = len(numeros)\n",
    "# media\n",
    "media = soma / qtde\n",
    "\n",
    "print(f' A soma dos valores da lista é:', soma)\n",
    "print(f' A media dos valores informados é:',media)"
   ]
  },
  {
   "cell_type": "markdown",
   "metadata": {},
   "source": [
    "### Exercício 09 - Faça um programa que imprima na tela apenas os números ímpares\n",
    "entre 1 e 50."
   ]
  },
  {
   "cell_type": "code",
   "execution_count": null,
   "metadata": {},
   "outputs": [],
   "source": [
    "numeros = range(1,51) # Gerar 50 valores partindo de 1\n",
    "\n",
    "for w in numeros:\n",
    "    # se o resto for diferente de 0,\n",
    "    if w % 2 != 0:\n",
    "        print(f' O número {w} é impar')"
   ]
  },
  {
   "cell_type": "markdown",
   "metadata": {},
   "source": [
    "### Exercício 10 - Faça um programa que receba dois números inteiros e gere os números\n",
    "inteiros que estão no intervalo compreendido por eles."
   ]
  },
  {
   "cell_type": "code",
   "execution_count": null,
   "metadata": {},
   "outputs": [],
   "source": [
    "# Neste exercicio ele pede 2 números de range/intervalo para poder mostrar todos os números dentre eles, esses números que ele pede são o número inicial e final\n",
    "# exemplo range(1,10)\n",
    "# no caso a gente vai gerar um input para nós mesmos colocar os números para gerar todos os números dentre esse intervalo\n",
    "numInferior = int(input('Digite o número inferior'))\n",
    "numSuperior = int(input('Digite o número superior'))\n",
    "\n",
    "for x in range(numInferior,numSuperior +1):\n",
    "        print(x)\n",
    "\n",
    "        \n"
   ]
  },
  {
   "cell_type": "markdown",
   "metadata": {},
   "source": [
    "### Exercício 11 - Altere o programa anterior para mostrar no final a soma dos números."
   ]
  },
  {
   "cell_type": "code",
   "execution_count": null,
   "metadata": {},
   "outputs": [],
   "source": [
    "numInferior = int(input('Digite o número inferior'))\n",
    "numSuperior = int(input('Digite o número superior'))\n",
    "\n",
    "soma = 0\n",
    "for x in range(numInferior, numSuperior + 1):\n",
    "    ## += é para fazer o resultado atual e somar, por exemplo pegar o saldo da sua conta e ir somando aos poucos por algum valor\n",
    "    soma += x\n",
    "    print('Valor da variável X =',x)\n",
    "    print('Valor da variável SOMA =',soma)"
   ]
  },
  {
   "cell_type": "markdown",
   "metadata": {},
   "source": [
    "### Exercício 12 - Desenvolva um gerador de tabuada, capaz de gerar a tabuada de\n",
    "qualquer número inteiro entre 1 a 10. O usuário deve informar de qual numero ele deseja\n",
    "ver a tabuada. A saída deve ser conforme o exemplo abaixo:"
   ]
  },
  {
   "cell_type": "code",
   "execution_count": null,
   "metadata": {},
   "outputs": [],
   "source": [
    "### Aqui será informado o número da tabuada que você quer mostrar\n",
    "numero = int(input('Digite um valor para gerarmos sua tabuada'))\n",
    "\n",
    "### Aqui será mostrado o range para percorrer de 1 a 10 para realizar a multiplicação e mostrar a tabuada\n",
    "for fator in range(1,11):\n",
    "\n",
    "    result = numero * fator\n",
    "    print(f'{numero} X {fator} = {result}')\n"
   ]
  },
  {
   "cell_type": "markdown",
   "metadata": {},
   "source": [
    "### LOOP WHILE"
   ]
  },
  {
   "cell_type": "code",
   "execution_count": 18,
   "metadata": {},
   "outputs": [
    {
     "name": "stdout",
     "output_type": "stream",
     "text": [
      "1\n",
      "2\n",
      "3\n",
      "4\n",
      "5\n",
      "6\n",
      "7\n",
      "8\n",
      "9\n",
      "10\n"
     ]
    }
   ],
   "source": [
    "i = 1  # Variável de controle\n",
    "soma = 0 # Variável acumuladora\n",
    "\n",
    "while i <= 10:\n",
    "    soma += 1\n",
    "    i += 1\n",
    "\n",
    "    print(soma)"
   ]
  }
 ],
 "metadata": {
  "kernelspec": {
   "display_name": "Python 3",
   "language": "python",
   "name": "python3"
  },
  "language_info": {
   "codemirror_mode": {
    "name": "ipython",
    "version": 3
   },
   "file_extension": ".py",
   "mimetype": "text/x-python",
   "name": "python",
   "nbconvert_exporter": "python",
   "pygments_lexer": "ipython3",
   "version": "3.11.0"
  }
 },
 "nbformat": 4,
 "nbformat_minor": 2
}
