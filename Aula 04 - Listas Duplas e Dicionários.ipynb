{
 "cells": [
  {
   "cell_type": "markdown",
   "metadata": {},
   "source": [
    "## Listas"
   ]
  },
  {
   "cell_type": "code",
   "execution_count": 1,
   "metadata": {},
   "outputs": [],
   "source": [
    "alunos = ['Ana', 'Amanda','Bruno', 'João']\n",
    "notas = [10, 9, 8, 7]"
   ]
  },
  {
   "cell_type": "code",
   "execution_count": 5,
   "metadata": {},
   "outputs": [
    {
     "data": {
      "text/plain": [
       "8"
      ]
     },
     "execution_count": 5,
     "metadata": {},
     "output_type": "execute_result"
    }
   ],
   "source": [
    "# Exibir o primeiro nome da lista alunos\n",
    "\n",
    "alunos[0]\n",
    "\n",
    "# Exibir a terceira nota da lista notas\n",
    "\n",
    "notas[2]"
   ]
  },
  {
   "cell_type": "markdown",
   "metadata": {},
   "source": [
    "## Lista (list) - Acessando itens"
   ]
  },
  {
   "cell_type": "code",
   "execution_count": 10,
   "metadata": {},
   "outputs": [
    {
     "data": {
      "text/plain": [
       "['Amanda', 'Bruno']"
      ]
     },
     "execution_count": 10,
     "metadata": {},
     "output_type": "execute_result"
    }
   ],
   "source": [
    "# Selecionar uma fatia dos dados (Amanda e Bruno)\n",
    "# lista[posição_inicial : posição_final +1]\n",
    "# A primeira posição é a partir do nome que ele vai mostrar e a segunda é o limite de mostragem (não vai mostrar)\n",
    "\n",
    "alunos[1:3]"
   ]
  },
  {
   "cell_type": "code",
   "execution_count": 7,
   "metadata": {},
   "outputs": [
    {
     "data": {
      "text/plain": [
       "['Bruno', 'João']"
      ]
     },
     "execution_count": 7,
     "metadata": {},
     "output_type": "execute_result"
    }
   ],
   "source": [
    "# Selecionar apenas os nomes Bruno e João\n",
    "alunos[2:]"
   ]
  },
  {
   "cell_type": "markdown",
   "metadata": {},
   "source": [
    "## Identificando o tipo de informação"
   ]
  },
  {
   "cell_type": "code",
   "execution_count": 11,
   "metadata": {},
   "outputs": [
    {
     "data": {
      "text/plain": [
       "list"
      ]
     },
     "execution_count": 11,
     "metadata": {},
     "output_type": "execute_result"
    }
   ],
   "source": [
    "type(notas)"
   ]
  },
  {
   "cell_type": "code",
   "execution_count": 15,
   "metadata": {},
   "outputs": [
    {
     "data": {
      "text/plain": [
       "int"
      ]
     },
     "execution_count": 15,
     "metadata": {},
     "output_type": "execute_result"
    }
   ],
   "source": [
    "type(notas[0])"
   ]
  },
  {
   "cell_type": "markdown",
   "metadata": {},
   "source": [
    "## Lista (list) - Conversão para string\n",
    "\n",
    "Para converter uma lista em STRING, nós utilizamos o comando JOIN"
   ]
  },
  {
   "cell_type": "code",
   "execution_count": 1,
   "metadata": {},
   "outputs": [
    {
     "name": "stdout",
     "output_type": "stream",
     "text": [
      "Batata;Óleo;Margarina;Café\n",
      "<class 'str'>\n"
     ]
    }
   ],
   "source": [
    "supermercado = ['Batata', 'Óleo', 'Margarina', 'Café']\n",
    "\n",
    "listaConvertida = ';'.join(supermercado)\n",
    "\n",
    "print(listaConvertida)\n",
    "print(type(listaConvertida))"
   ]
  },
  {
   "cell_type": "markdown",
   "metadata": {},
   "source": [
    "## Convertendo Lista (list) - string para lista"
   ]
  },
  {
   "cell_type": "code",
   "execution_count": 5,
   "metadata": {},
   "outputs": [
    {
     "name": "stdout",
     "output_type": "stream",
     "text": [
      "['Batata', 'Óleo', 'Margarina', 'Café']\n",
      "<class 'list'>\n"
     ]
    }
   ],
   "source": [
    "lista = listaConvertida.split(';')\n",
    "\n",
    "print(lista)\n",
    "print(type(lista))"
   ]
  },
  {
   "cell_type": "markdown",
   "metadata": {},
   "source": [
    "Tuplas (tuple)\n",
    "- Criamos utilizando parênteses\n",
    "\n",
    "- Separamos os elementos por vírgula\n",
    "\n",
    "- Após sua definição, não podemos alterar sua estrutura"
   ]
  },
  {
   "cell_type": "code",
   "execution_count": 6,
   "metadata": {},
   "outputs": [
    {
     "name": "stdout",
     "output_type": "stream",
     "text": [
      "<class 'tuple'>\n",
      "<class 'tuple'>\n"
     ]
    }
   ],
   "source": [
    "valores = (90, 79, 54, 32, 21)\n",
    "pontos = (100, 94.05, 86.08, 62)\n",
    "\n",
    "print(type(valores))\n",
    "\n",
    "print(type(pontos))"
   ]
  },
  {
   "cell_type": "code",
   "execution_count": 7,
   "metadata": {},
   "outputs": [
    {
     "ename": "TypeError",
     "evalue": "'tuple' object does not support item assignment",
     "output_type": "error",
     "traceback": [
      "\u001b[1;31m---------------------------------------------------------------------------\u001b[0m",
      "\u001b[1;31mTypeError\u001b[0m                                 Traceback (most recent call last)",
      "\u001b[1;32mc:\\Users\\FIC\\Documents\\gabriel-eloi-python\\Aula 04 - Listas Duplas e Dicionários.ipynb Cell 16\u001b[0m line \u001b[0;36m1\n\u001b[1;32m----> <a href='vscode-notebook-cell:/c%3A/Users/FIC/Documents/gabriel-eloi-python/Aula%2004%20-%20Listas%20Duplas%20e%20Dicion%C3%A1rios.ipynb#X22sZmlsZQ%3D%3D?line=0'>1</a>\u001b[0m valores[\u001b[39m0\u001b[39;49m] \u001b[39m=\u001b[39m \u001b[39m30\u001b[39m\n",
      "\u001b[1;31mTypeError\u001b[0m: 'tuple' object does not support item assignment"
     ]
    }
   ],
   "source": [
    "valores[0] = 30"
   ]
  },
  {
   "cell_type": "markdown",
   "metadata": {},
   "source": [
    "## Tuplas (tuple) - Outros exemplos"
   ]
  },
  {
   "cell_type": "code",
   "execution_count": 9,
   "metadata": {},
   "outputs": [
    {
     "name": "stdout",
     "output_type": "stream",
     "text": [
      "[10, 2]\n",
      "Não possível modificar uma tupla\n"
     ]
    }
   ],
   "source": [
    "my_list = [1,2] # Criando uma lista - Aceita alterações\n",
    "\n",
    "my_tuple = (1,2) # Criando uma tupla - Não aceita alterações\n",
    "\n",
    "# Alterando o elemento de posição 1 da lista\n",
    "#Listas permitem a sua alteração\n",
    "my_list[0] = 10\n",
    "\n",
    "print(my_list)\n",
    "\n",
    "#Alterar um elemento de uma tupla\n",
    "\n",
    "try:\n",
    "    my_tuple[1] = 3\n",
    "\n",
    "except TypeError:\n",
    "    print('Não possível modificar uma tupla')"
   ]
  },
  {
   "cell_type": "markdown",
   "metadata": {},
   "source": [
    "## Criando uma função com tuplas"
   ]
  },
  {
   "cell_type": "code",
   "execution_count": 10,
   "metadata": {},
   "outputs": [],
   "source": [
    "# def - definição da função que você esta criando\n",
    "def sum_and_product (x, y):\n",
    "    return (x + y), (x * y)"
   ]
  },
  {
   "cell_type": "code",
   "execution_count": 11,
   "metadata": {},
   "outputs": [
    {
     "data": {
      "text/plain": [
       "(15, 50)"
      ]
     },
     "execution_count": 11,
     "metadata": {},
     "output_type": "execute_result"
    }
   ],
   "source": [
    "sum_and_product(10,5)"
   ]
  },
  {
   "cell_type": "markdown",
   "metadata": {},
   "source": [
    "## Dicionários (dict)\n",
    "\n",
    "Dict é um tipo de dado muito flexível do Python.\n",
    "Eles são utilizados para agrupar elementos através da estrutura de chave e valor,\n",
    "onde a chave é o primeiro elemento seguido por dois pontos e pelo valor.\n",
    "Vamos ver alguns exemplos:"
   ]
  },
  {
   "cell_type": "code",
   "execution_count": 12,
   "metadata": {},
   "outputs": [
    {
     "name": "stdout",
     "output_type": "stream",
     "text": [
      "<class 'dict'>\n",
      "<class 'dict'>\n"
     ]
    }
   ],
   "source": [
    "altura = {\n",
    "    'Amanda': 1.65,\n",
    "    'Ana': 1.60,\n",
    "    'João': 1.50,          \n",
    "}\n",
    "\n",
    "peso = {\n",
    "    'Amanda': 60,\n",
    "    'Ana': 58,\n",
    "    'João': 100              \n",
    "}\n",
    "\n",
    "print(type(altura))\n",
    "print(type(peso))"
   ]
  },
  {
   "cell_type": "code",
   "execution_count": 14,
   "metadata": {},
   "outputs": [
    {
     "name": "stdout",
     "output_type": "stream",
     "text": [
      "1.6\n",
      "58\n"
     ]
    }
   ],
   "source": [
    "# Acessar informações do dicionario\n",
    "\n",
    "print(altura['Ana'])\n",
    "print(peso['Ana'])"
   ]
  },
  {
   "cell_type": "markdown",
   "metadata": {},
   "source": [
    "## Exercício 05 - Crie um dicionário chamado cardápio em que as chaves são os\n",
    "dias da semana e os respectivos valores sejam os pratos do dia."
   ]
  },
  {
   "cell_type": "code",
   "execution_count": 15,
   "metadata": {},
   "outputs": [
    {
     "name": "stdout",
     "output_type": "stream",
     "text": [
      "['vatapá, sororó, linguado']\n"
     ]
    }
   ],
   "source": [
    "cardapio = {\n",
    "\n",
    "    'seg': ['vatapá, sororó, linguado'],\n",
    "    'terça': ['strogonoff, pastel, linguiça'],\n",
    "    'quarta': ['parmegiana, arroz com feijao, batata frita'],\n",
    "    'quinta': ['frango ao molho, carne a parmegiana, batata recheada'],\n",
    "    'sexta': ['pastel, coxinha, kibe'],\n",
    "    'sabado': ['feijoada, vinho quente, cachaça'],\n",
    "    'domingo': ['lasanha, frango a passarinho, arroz com batata']\n",
    "}\n",
    "\n",
    "print(cardapio['seg'])"
   ]
  }
 ],
 "metadata": {
  "kernelspec": {
   "display_name": "Python 3",
   "language": "python",
   "name": "python3"
  },
  "language_info": {
   "codemirror_mode": {
    "name": "ipython",
    "version": 3
   },
   "file_extension": ".py",
   "mimetype": "text/x-python",
   "name": "python",
   "nbconvert_exporter": "python",
   "pygments_lexer": "ipython3",
   "version": "3.11.0"
  }
 },
 "nbformat": 4,
 "nbformat_minor": 2
}
